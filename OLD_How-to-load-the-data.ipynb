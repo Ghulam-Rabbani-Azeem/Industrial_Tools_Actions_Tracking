{
 "cells": [
  {
   "cell_type": "markdown",
   "metadata": {},
   "source": [
    "# How to load the Data\n",
    "\n",
    "Software setup:\n",
    "\n",
    "```bash\n",
    "conda create --name tool-tracking_env python=3.12\n",
    "conda activate tool-tracking_env\n",
    "pip install -r requirements.txt\n",
    "jupyter notebook\n",
    "```"
   ]
  },
  {
   "cell_type": "markdown",
   "metadata": {},
   "source": [
    "## 0. Structure of Tool Tracking Data"
   ]
  },
  {
   "cell_type": "markdown",
   "metadata": {},
   "source": [
    "You have one dedicated folder for each __(hand) tool__. On the next level are folders for each __measurement campaign__. The undermost level contains all __measurements__ of the corresponding measurement campaign.\n",
    "\n",
    "The preferred way to access the data for analysis and learning is using the `data-tools` package which is part of this repository.\n",
    "\n",
    "![data_structure](./info/structure_scheme.jpg)"
   ]
  },
  {
   "cell_type": "markdown",
   "metadata": {},
   "source": [
    "## 1. Load Data with `data-tools`\n",
    "\n",
    "First we have to connect to our downloaded data using the main class:"
   ]
  },
  {
   "cell_type": "code",
   "execution_count": 25,
   "metadata": {},
   "outputs": [],
   "source": [
    "from pathlib import Path\n",
    "from datatools.fixture import setup_dummy_data\n",
    "# test_tool\n",
    "# source = setup_dummy_data(5)\n",
    "\n",
    "# put data into this source folder\n",
    "source = \"./tool-tracking-data/\""
   ]
  },
  {
   "cell_type": "code",
   "execution_count": 26,
   "metadata": {
    "scrolled": true
   },
   "outputs": [],
   "source": [
    "from datatools import MeasurementDataReader, Measurement, MeasurementSeries, Action\n",
    "mdr = MeasurementDataReader(source=source)"
   ]
  },
  {
   "cell_type": "markdown",
   "metadata": {},
   "source": [
    "### 1.1 Create a Query to load _Measurements_ or _Actions_\n",
    "\n",
    "Using the `mdr` object we can create a `Query` object to formulate a query to the data source."
   ]
  },
  {
   "cell_type": "code",
   "execution_count": 27,
   "metadata": {},
   "outputs": [],
   "source": [
    "q = mdr.query(query_type=Measurement)"
   ]
  },
  {
   "cell_type": "markdown",
   "metadata": {},
   "source": [
    "Depending on the use case you can query for _Measurements_ which represents a temporal contiguous time series with inhomogeneous labels or _Actions_ which are parts of _Measurements_ but have the same label throughout their time range:\n",
    "\n",
    "```python\n",
    "from datatools import Action\n",
    "q = mdr.query(query_type=Action)\n",
    "```"
   ]
  },
  {
   "cell_type": "markdown",
   "metadata": {},
   "source": [
    "### 1.2 Narrow a Query to load _Measurements_ of interest"
   ]
  },
  {
   "cell_type": "code",
   "execution_count": 28,
   "metadata": {},
   "outputs": [
    {
     "name": "stdout",
     "output_type": "stream",
     "text": [
      "[INFO] Preparing data from:\n",
      "  tool-tracking-data\\pneumatic_rivet_gun\\pythagoras-07-20200724\n",
      "  tool-tracking-data\\pneumatic_rivet_gun\\pythagoras-07-20200724\n",
      "  tool-tracking-data\\pneumatic_rivet_gun\\pythagoras-07-20200724\n",
      "  tool-tracking-data\\pneumatic_rivet_gun\\pythagoras-07-20200724\n"
     ]
    },
    {
     "name": "stderr",
     "output_type": "stream",
     "text": [
      "[INFO] Read annotation: 100%|██████████| 16/16 [00:00<00:00, 71.93it/s, file=data-04.annotation]"
     ]
    },
    {
     "name": "stdout",
     "output_type": "stream",
     "text": [
      "[INFO] Finished with 4 measurement(s).\n"
     ]
    },
    {
     "name": "stderr",
     "output_type": "stream",
     "text": [
      "\n"
     ]
    }
   ],
   "source": [
    "from datatools import Tool, Config, MeasurementSeries, Measurement, DataTypes, Action\n",
    "from datatools import ACC, GYR, MAG, MIC, POS, VEL\n",
    "\n",
    "# mytool = \"electric_screwdriver\"\n",
    "#mytool = \"pneumatic_screwdriver\"\n",
    "mytool = \"pneumatic_rivet_gun\"\n",
    "#mytool = \"test_tool\"\n",
    "\n",
    "data_dict = q.filter_by(Tool == mytool, DataTypes == ACC).get()"
   ]
  },
  {
   "cell_type": "code",
   "execution_count": 29,
   "metadata": {},
   "outputs": [
    {
     "data": {
      "text/plain": [
       "dict_keys(['01', '02', '03', '04'])"
      ]
     },
     "execution_count": 29,
     "metadata": {},
     "output_type": "execute_result"
    }
   ],
   "source": [
    "data_dict.keys()  # we have loaded five measurements "
   ]
  },
  {
   "cell_type": "code",
   "execution_count": 30,
   "metadata": {},
   "outputs": [
    {
     "data": {
      "text/plain": [
       "datatools.data.DataBunch"
      ]
     },
     "execution_count": 30,
     "metadata": {},
     "output_type": "execute_result"
    }
   ],
   "source": [
    "data_bunch = data_dict[\"01\"] # data bunch for measurement with measurement id \"01\"\n",
    "type(data_bunch)  "
   ]
  },
  {
   "cell_type": "markdown",
   "metadata": {},
   "source": [
    "### 1.3 Interaction with the `DataBunch` class\n",
    "\n",
    "A DataBunch object is a dictionary-like object that exposes its keys as attributes. Access the data with `data_bunch.acc` or `data_bunch['audio']`. You can inspect which data is contained with:"
   ]
  },
  {
   "cell_type": "code",
   "execution_count": 31,
   "metadata": {},
   "outputs": [
    {
     "data": {
      "text/plain": [
       "['acc']"
      ]
     },
     "execution_count": 31,
     "metadata": {},
     "output_type": "execute_result"
    }
   ],
   "source": [
    "data_bunch.data_keys()"
   ]
  },
  {
   "cell_type": "code",
   "execution_count": 32,
   "metadata": {},
   "outputs": [
    {
     "data": {
      "text/plain": [
       "['acceleration x-axis [m/s^2]',\n",
       " 'acceleration y-axis [m/s^2]',\n",
       " 'acceleration z-axis [m/s^2]']"
      ]
     },
     "execution_count": 32,
     "metadata": {},
     "output_type": "execute_result"
    }
   ],
   "source": [
    "data_bunch.acc.features"
   ]
  },
  {
   "cell_type": "code",
   "execution_count": 33,
   "metadata": {},
   "outputs": [],
   "source": [
    "# matrix with raw sensor data with time column\n",
    "Xt = data_bunch.acc.ts # numpy array\n",
    "\n",
    "# matrix with raw sensor data (without time column)\n",
    "X = data_bunch.acc.X  # numpy array\n",
    "\n",
    "# target vector\n",
    "y = data_bunch.acc.y  # numpy array"
   ]
  },
  {
   "cell_type": "code",
   "execution_count": 34,
   "metadata": {},
   "outputs": [
    {
     "name": "stdout",
     "output_type": "stream",
     "text": [
      "shape of Xt:  (56948, 4)\n",
      "shape of X:  (56948, 3)\n",
      "shape of y:  (56948,)\n"
     ]
    }
   ],
   "source": [
    "print(\"shape of Xt: \", Xt.shape)\n",
    "print(\"shape of X: \", X.shape)\n",
    "print(\"shape of y: \", y.shape)"
   ]
  },
  {
   "cell_type": "markdown",
   "metadata": {},
   "source": [
    "### 1.4 Narrow a Query to load _Actions_ of interest"
   ]
  },
  {
   "cell_type": "code",
   "execution_count": 35,
   "metadata": {},
   "outputs": [
    {
     "name": "stdout",
     "output_type": "stream",
     "text": [
      "[INFO] Preparing data from:\n",
      "  tool-tracking-data\\pneumatic_rivet_gun\\pythagoras-07-20200724\n",
      "  tool-tracking-data\\pneumatic_rivet_gun\\pythagoras-07-20200724\n",
      "  tool-tracking-data\\pneumatic_rivet_gun\\pythagoras-07-20200724\n",
      "  tool-tracking-data\\pneumatic_rivet_gun\\pythagoras-07-20200724\n"
     ]
    },
    {
     "name": "stderr",
     "output_type": "stream",
     "text": [
      "[INFO] Read annotation: 100%|██████████| 16/16 [00:04<00:00,  3.70it/s, file=data-04.annotation]\n"
     ]
    },
    {
     "name": "stdout",
     "output_type": "stream",
     "text": [
      "[INFO] Finished with 130 action(s).\n"
     ]
    }
   ],
   "source": [
    "data_dict = mdr.query(query_type=Action).filter_by(Action == \"pull_trigger\", Tool == mytool).get()"
   ]
  },
  {
   "cell_type": "code",
   "execution_count": 36,
   "metadata": {},
   "outputs": [
    {
     "data": {
      "text/plain": [
       "dict_keys(['pull_trigger'])"
      ]
     },
     "execution_count": 36,
     "metadata": {},
     "output_type": "execute_result"
    }
   ],
   "source": [
    "data_dict.keys()  # the data is now grouped by actions"
   ]
  },
  {
   "cell_type": "code",
   "execution_count": 37,
   "metadata": {},
   "outputs": [
    {
     "name": "stdout",
     "output_type": "stream",
     "text": [
      "<class 'list'> of <class 'datatools.data.DataBunch'>\n"
     ]
    }
   ],
   "source": [
    "data_bunches = data_dict[\"pull_trigger\"]\n",
    "print(f\"{type(data_bunches)} of {type(data_bunches[0])}\")"
   ]
  },
  {
   "cell_type": "markdown",
   "metadata": {},
   "source": [
    "## 2. Create windowed Time-Series"
   ]
  },
  {
   "cell_type": "code",
   "execution_count": 38,
   "metadata": {},
   "outputs": [],
   "source": [
    "import numpy as np\n",
    "from seglearn.base import TS_Data\n",
    "from seglearn.pipe import Pype\n",
    "from fhgutils import Segment, contextual_recarray_dtype, filter_ts_data\n",
    "from datatools import to_ts_data"
   ]
  },
  {
   "cell_type": "markdown",
   "metadata": {},
   "source": [
    "> Note: `to_ts_data` can deal with the output when querying _Measurements_ as well as _Actions_\n",
    "\n",
    "Have a look on the seglearn [user guide](https://dmbee.github.io/seglearn/user_guide.html) to understand the data representation with `Xt` and `Xc`."
   ]
  },
  {
   "cell_type": "code",
   "execution_count": 39,
   "metadata": {},
   "outputs": [
    {
     "name": "stdout",
     "output_type": "stream",
     "text": [
      "[INFO] Preparing data from:\n",
      "  tool-tracking-data\\pneumatic_rivet_gun\\pythagoras-07-20200724\n",
      "  tool-tracking-data\\pneumatic_rivet_gun\\pythagoras-07-20200724\n",
      "  tool-tracking-data\\pneumatic_rivet_gun\\pythagoras-07-20200724\n",
      "  tool-tracking-data\\pneumatic_rivet_gun\\pythagoras-07-20200724\n"
     ]
    },
    {
     "name": "stderr",
     "output_type": "stream",
     "text": [
      "[INFO] Read annotation: 100%|██████████| 16/16 [00:04<00:00,  3.70it/s, file=data-04.annotation]\n"
     ]
    },
    {
     "name": "stdout",
     "output_type": "stream",
     "text": [
      "[INFO] Finished with 4 measurement(s).\n",
      "[INFO] segment ['acc' 'gyr' 'mag' 'mic'] together\n",
      "[INFO] segment ['acc' 'gyr' 'mag' 'mic'] together\n",
      "[INFO] segment ['acc' 'gyr' 'mag' 'mic'] together\n",
      "[INFO] segment ['acc' 'gyr' 'mag' 'mic'] together\n",
      "Segment: 100%|██████████| 43192/43192 [00:00<00:00, 43419.20it/s]\n"
     ]
    },
    {
     "ename": "ValueError",
     "evalue": "setting an array element with a sequence. The requested array has an inhomogeneous shape after 1 dimensions. The detected shape was (43192,) + inhomogeneous part.",
     "output_type": "error",
     "traceback": [
      "\u001b[31m---------------------------------------------------------------------------\u001b[39m",
      "\u001b[31mValueError\u001b[39m                                Traceback (most recent call last)",
      "\u001b[36mCell\u001b[39m\u001b[36m \u001b[39m\u001b[32mIn[39]\u001b[39m\u001b[32m, line 13\u001b[39m\n\u001b[32m      8\u001b[39m X = TS_Data(Xt, Xc)\n\u001b[32m      9\u001b[39m pipe = Pype([\n\u001b[32m     10\u001b[39m     (\u001b[33m'\u001b[39m\u001b[33msegment\u001b[39m\u001b[33m'\u001b[39m, Segment(window_length=window_length, overlap=overlap, enforce_size=\u001b[38;5;28;01mTrue\u001b[39;00m, n=\u001b[38;5;28mlen\u001b[39m(np.unique(Xc.desc))))\n\u001b[32m     11\u001b[39m ])\n\u001b[32m---> \u001b[39m\u001b[32m13\u001b[39m X_trans, y_trans = \u001b[43mpipe\u001b[49m\u001b[43m.\u001b[49m\u001b[43mfit_transform\u001b[49m\u001b[43m(\u001b[49m\u001b[43mX\u001b[49m\u001b[43m,\u001b[49m\u001b[43m \u001b[49m\u001b[43my\u001b[49m\u001b[43m)\u001b[49m\n",
      "\u001b[36mFile \u001b[39m\u001b[32mc:\\Users\\vinee\\anaconda3\\envs\\tool-tracking_env\\Lib\\site-packages\\seglearn\\pipe.py:206\u001b[39m, in \u001b[36mPype.fit_transform\u001b[39m\u001b[34m(self, X, y, **fit_params)\u001b[39m\n\u001b[32m    203\u001b[39m Xt, yt, fit_params = \u001b[38;5;28mself\u001b[39m._fit(X, y, **fit_params)\n\u001b[32m    205\u001b[39m \u001b[38;5;28;01mif\u001b[39;00m \u001b[38;5;28misinstance\u001b[39m(\u001b[38;5;28mself\u001b[39m._final_estimator, XyTransformerMixin):\n\u001b[32m--> \u001b[39m\u001b[32m206\u001b[39m     Xt, yt, _ = \u001b[38;5;28;43mself\u001b[39;49m\u001b[43m.\u001b[49m\u001b[43m_final_estimator\u001b[49m\u001b[43m.\u001b[49m\u001b[43mfit_transform\u001b[49m\u001b[43m(\u001b[49m\u001b[43mXt\u001b[49m\u001b[43m,\u001b[49m\u001b[43m \u001b[49m\u001b[43myt\u001b[49m\u001b[43m)\u001b[49m\n\u001b[32m    207\u001b[39m \u001b[38;5;28;01melse\u001b[39;00m:\n\u001b[32m    208\u001b[39m     \u001b[38;5;28;01mif\u001b[39;00m \u001b[38;5;28mhasattr\u001b[39m(\u001b[38;5;28mself\u001b[39m._final_estimator, \u001b[33m'\u001b[39m\u001b[33mfit_transform\u001b[39m\u001b[33m'\u001b[39m):\n",
      "\u001b[36mFile \u001b[39m\u001b[32mc:\\Users\\vinee\\anaconda3\\envs\\tool-tracking_env\\Lib\\site-packages\\seglearn\\transform.py:49\u001b[39m, in \u001b[36mXyTransformerMixin.fit_transform\u001b[39m\u001b[34m(self, X, y, sample_weight, **fit_params)\u001b[39m\n\u001b[32m     27\u001b[39m \u001b[38;5;28;01mdef\u001b[39;00m\u001b[38;5;250m \u001b[39m\u001b[34mfit_transform\u001b[39m(\u001b[38;5;28mself\u001b[39m, X, y, sample_weight=\u001b[38;5;28;01mNone\u001b[39;00m, **fit_params):\n\u001b[32m     28\u001b[39m \u001b[38;5;250m    \u001b[39m\u001b[33;03m\"\"\"\u001b[39;00m\n\u001b[32m     29\u001b[39m \u001b[33;03m    Fit the data and transform (required by sklearn API)\u001b[39;00m\n\u001b[32m     30\u001b[39m \n\u001b[32m   (...)\u001b[39m\u001b[32m     47\u001b[39m \u001b[33;03m        expanded sample weights\u001b[39;00m\n\u001b[32m     48\u001b[39m \u001b[33;03m    \"\"\"\u001b[39;00m\n\u001b[32m---> \u001b[39m\u001b[32m49\u001b[39m     \u001b[38;5;28;01mreturn\u001b[39;00m \u001b[38;5;28;43mself\u001b[39;49m\u001b[43m.\u001b[49m\u001b[43mfit\u001b[49m\u001b[43m(\u001b[49m\u001b[43mX\u001b[49m\u001b[43m,\u001b[49m\u001b[43m \u001b[49m\u001b[43my\u001b[49m\u001b[43m,\u001b[49m\u001b[43m \u001b[49m\u001b[43m*\u001b[49m\u001b[43m*\u001b[49m\u001b[43mfit_params\u001b[49m\u001b[43m)\u001b[49m\u001b[43m.\u001b[49m\u001b[43mtransform\u001b[49m\u001b[43m(\u001b[49m\u001b[43mX\u001b[49m\u001b[43m,\u001b[49m\u001b[43m \u001b[49m\u001b[43my\u001b[49m\u001b[43m,\u001b[49m\u001b[43m \u001b[49m\u001b[43msample_weight\u001b[49m\u001b[43m)\u001b[49m\n",
      "\u001b[36mFile \u001b[39m\u001b[32mc:\\users\\vinee\\onedrive\\desktop\\adlts_seminar\\tool-tracking\\fhg-utils\\fhgutils\\utils.py:691\u001b[39m, in \u001b[36mSegment.transform\u001b[39m\u001b[34m(self, X, y, sample_weight)\u001b[39m\n\u001b[32m    688\u001b[39m         empty_windows.append(i)\n\u001b[32m    690\u001b[39m \u001b[38;5;28;01mif\u001b[39;00m \u001b[38;5;28mlen\u001b[39m(empty_windows) > \u001b[32m0\u001b[39m:\n\u001b[32m--> \u001b[39m\u001b[32m691\u001b[39m     Xt_trans = \u001b[43mnp\u001b[49m\u001b[43m.\u001b[49m\u001b[43mdelete\u001b[49m\u001b[43m(\u001b[49m\u001b[43mXt_trans\u001b[49m\u001b[43m,\u001b[49m\u001b[43m \u001b[49m\u001b[43mempty_windows\u001b[49m\u001b[43m)\u001b[49m\n\u001b[32m    693\u001b[39m     \u001b[38;5;28;01mif\u001b[39;00m Xc \u001b[38;5;129;01mis\u001b[39;00m \u001b[38;5;129;01mnot\u001b[39;00m \u001b[38;5;28;01mNone\u001b[39;00m:\n\u001b[32m    694\u001b[39m         Xc_trans = np.delete(Xc_trans, empty_windows)\n",
      "\u001b[36mFile \u001b[39m\u001b[32mc:\\Users\\vinee\\anaconda3\\envs\\tool-tracking_env\\Lib\\site-packages\\numpy\\lib\\_function_base_impl.py:5338\u001b[39m, in \u001b[36mdelete\u001b[39m\u001b[34m(arr, obj, axis)\u001b[39m\n\u001b[32m   5272\u001b[39m \u001b[38;5;129m@array_function_dispatch\u001b[39m(_delete_dispatcher)\n\u001b[32m   5273\u001b[39m \u001b[38;5;28;01mdef\u001b[39;00m\u001b[38;5;250m \u001b[39m\u001b[34mdelete\u001b[39m(arr, obj, axis=\u001b[38;5;28;01mNone\u001b[39;00m):\n\u001b[32m   5274\u001b[39m \u001b[38;5;250m    \u001b[39m\u001b[33;03m\"\"\"\u001b[39;00m\n\u001b[32m   5275\u001b[39m \u001b[33;03m    Return a new array with sub-arrays along an axis deleted. For a one\u001b[39;00m\n\u001b[32m   5276\u001b[39m \u001b[33;03m    dimensional array, this returns those entries not returned by\u001b[39;00m\n\u001b[32m   (...)\u001b[39m\u001b[32m   5336\u001b[39m \n\u001b[32m   5337\u001b[39m \u001b[33;03m    \"\"\"\u001b[39;00m\n\u001b[32m-> \u001b[39m\u001b[32m5338\u001b[39m     conv = \u001b[43m_array_converter\u001b[49m\u001b[43m(\u001b[49m\u001b[43marr\u001b[49m\u001b[43m)\u001b[49m\n\u001b[32m   5339\u001b[39m     arr, = conv.as_arrays(subok=\u001b[38;5;28;01mFalse\u001b[39;00m)\n\u001b[32m   5341\u001b[39m     ndim = arr.ndim\n",
      "\u001b[31mValueError\u001b[39m: setting an array element with a sequence. The requested array has an inhomogeneous shape after 1 dimensions. The detected shape was (43192,) + inhomogeneous part."
     ]
    }
   ],
   "source": [
    "window_length=0.4 # unit in s\n",
    "overlap = 0.5 # unit in percent\n",
    "\n",
    "# clean and window data\n",
    "data_dict = mdr.query().filter_by(Tool == mytool).get()\n",
    "Xt, Xc, y = to_ts_data(data_dict, contextual_recarray_dtype)\n",
    "\n",
    "X = TS_Data(Xt, Xc)\n",
    "pipe = Pype([\n",
    "    ('segment', Segment(window_length=window_length, overlap=overlap, enforce_size=True, n=len(np.unique(Xc.desc))))\n",
    "])\n",
    "\n",
    "X_trans, y_trans = pipe.fit_transform(X, y)"
   ]
  },
  {
   "cell_type": "markdown",
   "metadata": {},
   "source": [
    "### 2.1 Filter windowed Data"
   ]
  },
  {
   "cell_type": "code",
   "execution_count": null,
   "metadata": {},
   "outputs": [],
   "source": [
    "print(\"[INFO] extract segmented ACC data\")\n",
    "Xt_acc, Xc_acc, y_acc = filter_ts_data(X_trans, y_trans, filt={'desc': ['acc']})\n",
    "\n",
    "print(\"[INFO] extract segmented GYR data\")\n",
    "Xt_gyr, Xc_gyr, y_gyr = filter_ts_data(X_trans, y_trans, filt={'desc': ['gyr']})"
   ]
  },
  {
   "cell_type": "code",
   "execution_count": null,
   "metadata": {},
   "outputs": [],
   "source": [
    "print(\"[INFO] shape of ACC data is\", Xt_acc.shape)\n",
    "print(\"[INFO] shape of GYR data is\", Xt_gyr.shape)\n",
    "print(f\"[INFO] {Xt_acc.shape[0]} windows with {Xt_acc[0].shape[1]} sample each (time stamps and 3 axis accelerometer)\")"
   ]
  },
  {
   "cell_type": "markdown",
   "metadata": {},
   "source": [
    "You can discard the time column with e.g.:\n",
    "```python\n",
    "Xt_acc = Xt_acc[:,:,1:]\n",
    "```"
   ]
  },
  {
   "cell_type": "markdown",
   "metadata": {},
   "source": [
    "### 2.2 Plot the Toy Data\n",
    "> Note: In this example we deal with randomly generated toy data!"
   ]
  },
  {
   "cell_type": "code",
   "execution_count": null,
   "metadata": {},
   "outputs": [],
   "source": [
    "import matplotlib.pyplot as plt\n",
    "\n",
    "# plot a sample\n",
    "plt.figure(figsize=(24,4))\n",
    "plt.title(f\"Single window\")\n",
    "t = Xt_acc[70][:, 0]\n",
    "x_win = Xt_acc[70][:, 1:]\n",
    "plt.plot(t, x_win)\n",
    "plt.xlabel('Time [a.u.]')\n",
    "plt.ylabel('sensor values acc')\n",
    "plt.show()\n",
    "\n",
    "# plot a measurement\n",
    "plotme = data_dict[\"01\"].acc.ts\n",
    "t = plotme[:, 0]\n",
    "x_mea = plotme[:, 1:]\n",
    "plt.figure(figsize=(24,4))\n",
    "plt.title(\"Measurement #01\")\n",
    "plt.plot(t, x_mea)\n",
    "plt.xlabel('Time [a.u.]')\n",
    "plt.ylabel('sensor values acc')\n",
    "plt.show()"
   ]
  },
  {
   "cell_type": "markdown",
   "metadata": {},
   "source": [
    "## 3. Preprocess the Data"
   ]
  },
  {
   "cell_type": "code",
   "execution_count": null,
   "metadata": {},
   "outputs": [],
   "source": [
    "from fhgutils import filter_labels, one_label_per_window, summarize_labels"
   ]
  },
  {
   "cell_type": "markdown",
   "metadata": {},
   "source": [
    "### 3.1 `filter_labels`\n",
    "- filter out labels [-1]\n",
    "- also filter out whole windows, in case there is no majority label \n",
    "- e.g. window length of 5, labels could be [1,1,1,1,0] -> okay. but if [1,1,0,0,2] -> discard window."
   ]
  },
  {
   "cell_type": "code",
   "execution_count": null,
   "metadata": {},
   "outputs": [],
   "source": [
    "values, counts = np.unique(y_acc, return_counts=True)\n",
    "for val, count in zip(values, counts):\n",
    "    print(f\"[INFO] label {val} with {count} samples\")"
   ]
  },
  {
   "cell_type": "code",
   "execution_count": null,
   "metadata": {},
   "outputs": [],
   "source": [
    "Xt_acc_f, Xc_acc_f, y_acc_f = filter_labels(labels=[-1], Xt=Xt_acc, Xc=Xc_acc, y=y_acc)"
   ]
  },
  {
   "cell_type": "markdown",
   "metadata": {},
   "source": [
    "### 3.2 `one_label_per_window`\n",
    "- flatten labels of windows to the majority label\n",
    "- `[1,1,1,1,2]` -> 1. bad if you've got `[0,0,0,0,0,1,1,1,1,1,1]` -> 1, this creates anomalous samples of class 1"
   ]
  },
  {
   "cell_type": "code",
   "execution_count": null,
   "metadata": {},
   "outputs": [],
   "source": [
    "print(\"pre\", y_acc_f[5])\n",
    "y_acc_f = one_label_per_window(y=y_acc_f)\n",
    "print(\"post\", y_acc_f[5])"
   ]
  },
  {
   "cell_type": "markdown",
   "metadata": {},
   "source": [
    "### 3.3 `summarize_labels`\n",
    "- some labels are basically very similar, like \"pull_trigger, pull_trigger_air\" for the Pneumatic Rivet Gun\n",
    "- same action, but once holding the tool in the air, once using it on a workpiece."
   ]
  },
  {
   "cell_type": "code",
   "execution_count": null,
   "metadata": {},
   "outputs": [],
   "source": [
    "summarylabels = {5: [0, 1]} \n",
    "y_acc_f_sum = summarize_labels(y_acc, summarylabels)"
   ]
  },
  {
   "cell_type": "code",
   "execution_count": null,
   "metadata": {},
   "outputs": [],
   "source": []
  }
 ],
 "metadata": {
  "kernelspec": {
   "display_name": "tool-tracking_env",
   "language": "python",
   "name": "python3"
  },
  "language_info": {
   "codemirror_mode": {
    "name": "ipython",
    "version": 3
   },
   "file_extension": ".py",
   "mimetype": "text/x-python",
   "name": "python",
   "nbconvert_exporter": "python",
   "pygments_lexer": "ipython3",
   "version": "3.12.9"
  },
  "latex_envs": {
   "LaTeX_envs_menu_present": true,
   "autoclose": false,
   "autocomplete": true,
   "bibliofile": "biblio.bib",
   "cite_by": "apalike",
   "current_citInitial": 1,
   "eqLabelWithNumbers": true,
   "eqNumInitial": 1,
   "hotkeys": {
    "equation": "Ctrl-E",
    "itemize": "Ctrl-I"
   },
   "labels_anchors": false,
   "latex_user_defs": false,
   "report_style_numbering": false,
   "user_envs_cfg": false
  },
  "toc": {
   "base_numbering": 1,
   "nav_menu": {},
   "number_sections": true,
   "sideBar": true,
   "skip_h1_title": false,
   "title_cell": "Table of Contents",
   "title_sidebar": "Contents",
   "toc_cell": false,
   "toc_position": {},
   "toc_section_display": true,
   "toc_window_display": false
  }
 },
 "nbformat": 4,
 "nbformat_minor": 4
}
