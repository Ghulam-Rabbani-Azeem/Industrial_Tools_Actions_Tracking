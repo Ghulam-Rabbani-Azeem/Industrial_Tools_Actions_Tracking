{
 "cells": [
  {
   "cell_type": "code",
   "execution_count": 1,
   "id": "3e2ba515",
   "metadata": {},
   "outputs": [],
   "source": [
    "from pathlib import Path\n",
    "from datatools.fixture import setup_dummy_data\n",
    "\n",
    "source = \"./tool-tracking-data/\""
   ]
  },
  {
   "cell_type": "code",
   "execution_count": 2,
   "id": "cb1342ef",
   "metadata": {},
   "outputs": [],
   "source": [
    "from datatools import MeasurementDataReader, Measurement, MeasurementSeries, Action\n",
    "mdr = MeasurementDataReader(source=source)"
   ]
  },
  {
   "cell_type": "code",
   "execution_count": 3,
   "id": "8b38ba2f",
   "metadata": {},
   "outputs": [],
   "source": [
    "from datatools import Tool, Config, MeasurementSeries, Measurement, DataTypes, Action\n",
    "\n",
    "mytool = \"electric_screwdriver\"\n",
    "# mytool = \"pneumatic_screwdriver\"\n",
    "# mytool = \"pneumatic_rivet_gun\""
   ]
  },
  {
   "cell_type": "code",
   "execution_count": 4,
   "id": "50a30cb9",
   "metadata": {},
   "outputs": [],
   "source": [
    "import numpy as np\n",
    "from seglearn.base import TS_Data\n",
    "from seglearn.pipe import Pype\n",
    "from fhgutils import Segment, contextual_recarray_dtype, filter_ts_data\n",
    "from datatools import to_ts_data"
   ]
  },
  {
   "cell_type": "code",
   "execution_count": 5,
   "id": "9c7fc3e3",
   "metadata": {},
   "outputs": [],
   "source": [
    "# class_label_dict = mdr.query(query_type=Action).filter_by(Tool == mytool).get()"
   ]
  },
  {
   "cell_type": "code",
   "execution_count": 6,
   "id": "d1b46e9d",
   "metadata": {},
   "outputs": [],
   "source": [
    "# # Create a mapping of labels to class names\n",
    "# # This assumes that the data_dict contains a list of dictionaries with 'classes' keys\n",
    "# label_class_map = {}\n",
    "\n",
    "# for action, data in class_label_dict.items():\n",
    "#     if isinstance(data, list):\n",
    "#         for entry in data:\n",
    "#             if 'classes' in entry:\n",
    "#                 for label, class_name in entry['classes'].items():\n",
    "#                     label_class_map[label] = class_name\n",
    "\n",
    "# # Display the mappings\n",
    "# for label, class_name in sorted(label_class_map.items()):\n",
    "#     print(f\"{label}: {class_name}\")"
   ]
  },
  {
   "cell_type": "code",
   "execution_count": 7,
   "id": "3d67f7b7",
   "metadata": {},
   "outputs": [
    {
     "name": "stdout",
     "output_type": "stream",
     "text": [
      "[INFO] Preparing data from:\n",
      "  tool-tracking-data\\electric_screwdriver\\pythagoras-10-20200716\n",
      "  tool-tracking-data\\electric_screwdriver\\pythagoras-10-20200716\n",
      "  tool-tracking-data\\electric_screwdriver\\pythagoras-10-20200716\n",
      "  tool-tracking-data\\electric_screwdriver\\pythagoras-10-20200716\n"
     ]
    },
    {
     "name": "stderr",
     "output_type": "stream",
     "text": [
      "[INFO] Read data:  12%|█▎        | 2/16 [00:00<00:00, 16.04it/s, file=ACC-02-102.291.csv]"
     ]
    },
    {
     "name": "stdout",
     "output_type": "stream",
     "text": [
      "[WARN] The mean sampling rate from the filename (tool-tracking-data\\electric_screwdriver\\pythagoras-10-20200716\\ACC-01-102.291.csv) and from the timestamps differ by 0.001Hz\n",
      "\n",
      "[WARN] The mean sampling rate from the filename (tool-tracking-data\\electric_screwdriver\\pythagoras-10-20200716\\ACC-02-102.291.csv) and from the timestamps differ by 0.001Hz\n",
      "\n",
      "[WARN] The mean sampling rate from the filename (tool-tracking-data\\electric_screwdriver\\pythagoras-10-20200716\\ACC-03-102.291.csv) and from the timestamps differ by 0.001Hz\n",
      "\n",
      "[WARN] The mean sampling rate from the filename (tool-tracking-data\\electric_screwdriver\\pythagoras-10-20200716\\ACC-04-102.291.csv) and from the timestamps differ by 0.001Hz\n",
      "\n"
     ]
    },
    {
     "name": "stderr",
     "output_type": "stream",
     "text": [
      "[INFO] Read data:  38%|███▊      | 6/16 [00:00<00:00, 24.66it/s, file=GYR-02-102.291.csv]"
     ]
    },
    {
     "name": "stdout",
     "output_type": "stream",
     "text": [
      "[WARN] The mean sampling rate from the filename (tool-tracking-data\\electric_screwdriver\\pythagoras-10-20200716\\GYR-01-102.291.csv) and from the timestamps differ by 0.001Hz\n",
      "\n",
      "[WARN] The mean sampling rate from the filename (tool-tracking-data\\electric_screwdriver\\pythagoras-10-20200716\\GYR-02-102.291.csv) and from the timestamps differ by 0.001Hz\n",
      "\n"
     ]
    },
    {
     "name": "stderr",
     "output_type": "stream",
     "text": [
      "[INFO] Read data:  56%|█████▋    | 9/16 [00:00<00:00, 25.12it/s, file=MAG-01-155.087.csv]"
     ]
    },
    {
     "name": "stdout",
     "output_type": "stream",
     "text": [
      "[WARN] The mean sampling rate from the filename (tool-tracking-data\\electric_screwdriver\\pythagoras-10-20200716\\GYR-03-102.291.csv) and from the timestamps differ by 0.001Hz\n",
      "\n",
      "[WARN] The mean sampling rate from the filename (tool-tracking-data\\electric_screwdriver\\pythagoras-10-20200716\\GYR-04-102.291.csv) and from the timestamps differ by 0.001Hz\n",
      "\n",
      "[WARN] The mean sampling rate from the filename (tool-tracking-data\\electric_screwdriver\\pythagoras-10-20200716\\MAG-01-155.087.csv) and from the timestamps differ by 0.001Hz\n",
      "\n",
      "[WARN] The mean sampling rate from the filename (tool-tracking-data\\electric_screwdriver\\pythagoras-10-20200716\\MAG-02-154.679.csv) and from the timestamps differ by 0.001Hz\n",
      "\n",
      "[WARN] The mean sampling rate from the filename (tool-tracking-data\\electric_screwdriver\\pythagoras-10-20200716\\MAG-03-154.871.csv) and from the timestamps differ by 0.002Hz\n",
      "\n"
     ]
    },
    {
     "name": "stderr",
     "output_type": "stream",
     "text": [
      "[INFO] Read data:  75%|███████▌  | 12/16 [00:00<00:00, 23.22it/s, file=MAG-04-154.967.csv]"
     ]
    },
    {
     "name": "stdout",
     "output_type": "stream",
     "text": [
      "[WARN] The mean sampling rate from the filename (tool-tracking-data\\electric_screwdriver\\pythagoras-10-20200716\\MAG-04-154.967.csv) and from the timestamps differ by 0.001Hz\n",
      "\n"
     ]
    },
    {
     "name": "stderr",
     "output_type": "stream",
     "text": [
      "[INFO] Read annotation: 100%|██████████| 16/16 [00:04<00:00,  3.79it/s, file=data-04.annotation]\n"
     ]
    },
    {
     "name": "stdout",
     "output_type": "stream",
     "text": [
      "[INFO] Finished with 4 measurement(s).\n",
      "###############################################\n",
      "Number of sequences: 16\n",
      "Sequence 0: Type = <class 'numpy.ndarray'>, Shape = (41775, 4)\n",
      "Sequence 1: Type = <class 'numpy.ndarray'>, Shape = (41775, 4)\n",
      "Sequence 2: Type = <class 'numpy.ndarray'>, Shape = (63336, 4)\n",
      "Sequence 3: Type = <class 'numpy.ndarray'>, Shape = (3267040, 2)\n",
      "Sequence 4: Type = <class 'numpy.ndarray'>, Shape = (41439, 4)\n",
      "Sequence 5: Type = <class 'numpy.ndarray'>, Shape = (41439, 4)\n",
      "Sequence 6: Type = <class 'numpy.ndarray'>, Shape = (62658, 4)\n",
      "Sequence 7: Type = <class 'numpy.ndarray'>, Shape = (3240640, 2)\n",
      "Sequence 8: Type = <class 'numpy.ndarray'>, Shape = (33620, 4)\n",
      "Sequence 9: Type = <class 'numpy.ndarray'>, Shape = (33620, 4)\n",
      "Sequence 10: Type = <class 'numpy.ndarray'>, Shape = (50902, 4)\n",
      "Sequence 11: Type = <class 'numpy.ndarray'>, Shape = (2629280, 2)\n",
      "Sequence 12: Type = <class 'numpy.ndarray'>, Shape = (31927, 4)\n",
      "Sequence 13: Type = <class 'numpy.ndarray'>, Shape = (31927, 4)\n",
      "Sequence 14: Type = <class 'numpy.ndarray'>, Shape = (48368, 4)\n",
      "Sequence 15: Type = <class 'numpy.ndarray'>, Shape = (2496960, 2)\n",
      "[INFO] segment ['acc' 'gyr' 'mag' 'mic'] together\n",
      "[INFO] segment ['acc' 'gyr' 'mag' 'mic'] together\n",
      "[INFO] segment ['acc' 'gyr' 'mag' 'mic'] together\n",
      "[INFO] segment ['acc' 'gyr' 'mag' 'mic'] together\n",
      "Segment: 100%|██████████| 29060/29060 [00:01<00:00, 23751.87it/s]\n"
     ]
    }
   ],
   "source": [
    "window_length=0.4 # unit in s\n",
    "overlap = 0.5 # unit in percent\n",
    "\n",
    "# clean and window data\n",
    "data_dict = mdr.query().filter_by(Tool == mytool).get()\n",
    "Xt, Xc, y = to_ts_data(data_dict, contextual_recarray_dtype)\n",
    "\n",
    "X = TS_Data(Xt, Xc)\n",
    "pipe = Pype([\n",
    "    ('segment', Segment(window_length=window_length, overlap=overlap, enforce_size=True, n=len(np.unique(Xc.desc))))\n",
    "])\n",
    "\n",
    "print('###############################################')\n",
    "print(\"Number of sequences:\", len(X.ts_data))\n",
    "for i, seq in enumerate(X.ts_data):\n",
    "    print(f\"Sequence {i}: Type = {type(seq)}, Shape = {np.shape(seq)}\")\n",
    "\n",
    "\n",
    "X_trans, y_trans = pipe.fit_transform(X, y)"
   ]
  },
  {
   "cell_type": "markdown",
   "id": "659592c5",
   "metadata": {},
   "source": [
    "### To get the class and corresponding labels"
   ]
  },
  {
   "cell_type": "code",
   "execution_count": 8,
   "id": "e85305d4",
   "metadata": {},
   "outputs": [
    {
     "name": "stdout",
     "output_type": "stream",
     "text": [
      "{5: 'motor_activity_ccw', 4: 'motor_activity_cw', 8: 'undefined', 6: 'manual_motor_rotation', 7: 'shaking', 2: 'tightening', 3: 'untightening', 14: 'tightening_double'}\n"
     ]
    }
   ],
   "source": [
    "# for i in range(1,5):\n",
    "#     print(data_dict[f\"0{i}\"][\"classes\"])\n",
    "print(data_dict[\"01\"][\"classes\"])"
   ]
  },
  {
   "cell_type": "code",
   "execution_count": 9,
   "id": "22a39b17",
   "metadata": {},
   "outputs": [
    {
     "name": "stdout",
     "output_type": "stream",
     "text": [
      "[INFO] extract segmented ACC data\n",
      "[INFO] extract segmented GYR data\n",
      "[INFO] extract segmented MAG data\n",
      "[INFO] extract segmented MIC data\n"
     ]
    }
   ],
   "source": [
    "# Remove the microphone channel\n",
    "\n",
    "print(\"[INFO] extract segmented ACC data\")\n",
    "Xt_acc, Xc_acc, y_acc = filter_ts_data(X_trans, y_trans, filt={'desc': ['acc']})\n",
    "\n",
    "print(\"[INFO] extract segmented GYR data\")\n",
    "Xt_gyr, Xc_gyr, y_gyr = filter_ts_data(X_trans, y_trans, filt={'desc': ['gyr']})\n",
    "\n",
    "print(\"[INFO] extract segmented MAG data\")\n",
    "Xt_mag, Xc_mag, y_mag = filter_ts_data(X_trans, y_trans, filt={'desc': ['mag']})\n",
    "\n",
    "print(\"[INFO] extract segmented MIC data\")\n",
    "Xt_mic, Xc_mic, y_mic = filter_ts_data(X_trans, y_trans, filt={'desc': ['mic']})\n"
   ]
  },
  {
   "cell_type": "code",
   "execution_count": 10,
   "id": "d0f934b3",
   "metadata": {},
   "outputs": [
    {
     "name": "stdout",
     "output_type": "stream",
     "text": [
      "[INFO] shape of ACC data is (7265,)\n",
      "[INFO] shape of GYR data is (7265,)\n",
      "[INFO] shape of MAG data is (7265,)\n",
      "[INFO] shape of MIC data is (7265,)\n",
      "[INFO] 7265 windows with 41 sample each (time stamps and 3 axis gyroscope)\n",
      "[INFO] 7265 windows with 41 sample each (time stamps and 3 axis accelerometer)\n",
      "[INFO] 7265 windows with 62 sample each (time stamps and 3 axis magnetometer)\n",
      "[INFO] 7265 windows with 3200 sample each (time stamps and 1 axis microphone)\n"
     ]
    }
   ],
   "source": [
    "print(\"[INFO] shape of ACC data is\", Xt_acc.shape)\n",
    "print(\"[INFO] shape of GYR data is\", Xt_gyr.shape)\n",
    "print(\"[INFO] shape of MAG data is\", Xt_mag.shape)\n",
    "print(\"[INFO] shape of MIC data is\", Xt_mic.shape)\n",
    "print(f\"[INFO] {Xt_gyr.shape[0]} windows with {Xt_gyr[0].shape[0]} sample each (time stamps and 3 axis gyroscope)\")\n",
    "print(f\"[INFO] {Xt_acc.shape[0]} windows with {Xt_acc[0].shape[0]} sample each (time stamps and 3 axis accelerometer)\")\n",
    "print(f\"[INFO] {Xt_mag.shape[0]} windows with {Xt_mag[0].shape[0]} sample each (time stamps and 3 axis magnetometer)\")\n",
    "print(f\"[INFO] {Xt_mic.shape[0]} windows with {Xt_mic[0].shape[0]} sample each (time stamps and 1 axis microphone)\")"
   ]
  },
  {
   "cell_type": "code",
   "execution_count": 11,
   "id": "81f30adf",
   "metadata": {},
   "outputs": [],
   "source": [
    "from fhgutils import filter_labels, one_label_per_window\n",
    "from data_preprocessing import find_ambiguous_windows,remove_windows_by_indices"
   ]
  },
  {
   "cell_type": "code",
   "execution_count": 12,
   "id": "764b3aa7",
   "metadata": {},
   "outputs": [
    {
     "name": "stdout",
     "output_type": "stream",
     "text": [
      "[ACC] Checking for ambiguous windows...\n",
      "[ACC] Found 6 ambiguous windows.\n",
      "[GYR] Checking for ambiguous windows...\n",
      "[GYR] Found 6 ambiguous windows.\n",
      "[MAG] Checking for ambiguous windows...\n",
      "[MAG] Found 46 ambiguous windows.\n",
      "[MIC] Checking for ambiguous windows...\n",
      "[MIC] Found 80 ambiguous windows.\n",
      "Number of all ambiguous window indices across 4 modalities: 103\n"
     ]
    }
   ],
   "source": [
    "ambiguous_acc = find_ambiguous_windows(Xt_acc, Xc_acc, y_acc, name=\"ACC\")\n",
    "ambiguous_gyr = find_ambiguous_windows(Xt_gyr, Xc_gyr, y_gyr, name=\"GYR\")\n",
    "ambiguous_mag = find_ambiguous_windows(Xt_mag, Xc_mag, y_mag, name=\"MAG\")\n",
    "ambiguous_mic = find_ambiguous_windows(Xt_mic, Xc_mic, y_mic, name=\"MIC\")\n",
    "\n",
    "# Union of all ambiguous window indices - windows with no majority label\n",
    "ambiguous_indices = set(ambiguous_acc) | set(ambiguous_gyr) | set(ambiguous_mag) | set(ambiguous_mic)\n",
    "\n",
    "print(f\"Number of all ambiguous window indices across 4 modalities: {len(ambiguous_indices)}\")\n"
   ]
  },
  {
   "cell_type": "code",
   "execution_count": 13,
   "id": "dbddef88",
   "metadata": {},
   "outputs": [
    {
     "name": "stdout",
     "output_type": "stream",
     "text": [
      "[INFO] Xt shape: (7162,)\n",
      "[INFO] y shape after processing: (7162, 41)\n",
      "[INFO] Xt shape: (7162,)\n",
      "[INFO] y shape after processing: (7162, 41)\n",
      "[INFO] Xt shape: (7162,)\n",
      "[INFO] y shape after processing: (7162, 62)\n",
      "[INFO] Xt shape: (7162,)\n",
      "[INFO] y shape after processing: (7162, 3200)\n"
     ]
    }
   ],
   "source": [
    "# To remove windows without majority label from all modalities\n",
    "Xt_acc_f, Xc_acc_f, y_acc_f = remove_windows_by_indices(Xt_acc, Xc_acc, y_acc, ambiguous_indices)\n",
    "Xt_gyr_f, Xc_gyr_f, y_gyr_f = remove_windows_by_indices(Xt_gyr, Xc_gyr, y_gyr, ambiguous_indices)\n",
    "Xt_mag_f, Xc_mag_f, y_mag_f = remove_windows_by_indices(Xt_mag, Xc_mag, y_mag, ambiguous_indices)\n",
    "Xt_mic_f, Xc_mic_f, y_mic_f = remove_windows_by_indices(Xt_mic, Xc_mic, y_mic, ambiguous_indices)\n",
    "\n",
    "# Code to print the window incase of unequal samples per window, eg: incase MIC data for pneumatic screw driver\n",
    "for k in range(len(y_mic_f)):\n",
    "    for i in y_mic_f[k]:\n",
    "        if i == -42:\n",
    "            print(k)"
   ]
  },
  {
   "cell_type": "code",
   "execution_count": 14,
   "id": "cb864e30",
   "metadata": {},
   "outputs": [
    {
     "name": "stdout",
     "output_type": "stream",
     "text": [
      "Below find the number of unique labels in the data\n",
      "flattened 8 labels: [ 2  3  4  5  6  7  8 14]\n",
      "Below find the number of unique labels in the data\n",
      "flattened 8 labels: [ 2  3  4  5  6  7  8 14]\n",
      "Below find the number of unique labels in the data\n",
      "flattened 8 labels: [ 2  3  4  5  6  7  8 14]\n",
      "Below find the number of unique labels in the data\n",
      "flattened 8 labels: [ 2  3  4  5  6  7  8 14]\n",
      "-----------------------------------------------\n",
      "[ACC] Number of windows after removing ambiguous window indices: 7162\n",
      "[GYR] Number of windows after removing ambiguous window indices: 7162\n",
      "[MAG] Number of windows after removing ambiguous window indices: 7162\n",
      "[MIC] Number of windows after removing ambiguous window indices: 7162\n"
     ]
    }
   ],
   "source": [
    "y_acc_f = one_label_per_window(y_acc_f)\n",
    "y_gyr_f = one_label_per_window(y_gyr_f)\n",
    "y_mag_f = one_label_per_window(y_mag_f)\n",
    "y_mic_f = one_label_per_window(y_mic_f)\n",
    "# Print y_mic_f\n",
    "print(\"-----------------------------------------------\")\n",
    "print(f\"[ACC] Number of windows after removing ambiguous window indices: {len(y_acc_f)}\")\n",
    "print(f\"[GYR] Number of windows after removing ambiguous window indices: {len(y_gyr_f)}\")\n",
    "print(f\"[MAG] Number of windows after removing ambiguous window indices: {len(y_mag_f)}\")\n",
    "print(f\"[MIC] Number of windows after removing ambiguous window indices: {len(y_mic_f)}\")\n",
    "\n",
    "\n"
   ]
  },
  {
   "cell_type": "code",
   "execution_count": 15,
   "id": "c896ed68",
   "metadata": {},
   "outputs": [
    {
     "name": "stdout",
     "output_type": "stream",
     "text": [
      "The number of mismatched windows before removing across 4 modalities: 21\n",
      "[INFO] Xt shape: (7141,)\n",
      "[INFO] y shape after processing: (7141,)\n",
      "[INFO] Xt shape: (7141,)\n",
      "[INFO] y shape after processing: (7141,)\n",
      "[INFO] Xt shape: (7141,)\n",
      "[INFO] y shape after processing: (7141,)\n",
      "[INFO] Xt shape: (7141,)\n",
      "[INFO] y shape after processing: (7141,)\n",
      "The number of mismatched windows after removing across 4 modalities (should be zero): 0\n",
      "-----------------------------------------------\n",
      "[ACC] Number of windows after removing mismatched window indices: 7141\n",
      "[GYR] Number of windows after removing mismatched window indices: 7141\n",
      "[MAG] Number of windows after removing mismatched window indices: 7141\n",
      "[MIC] Number of windows after removing mismatched window indices: 7141\n",
      "4\n"
     ]
    }
   ],
   "source": [
    "inconsistent_indices = [\n",
    "    i for i in range(len(y_acc_f))\n",
    "    if not (y_acc_f[i] == y_gyr_f[i] == y_mag_f[i] == y_mic_f[i])\n",
    "]\n",
    "print(f\"The number of mismatched windows before removing across 4 modalities: {len(inconsistent_indices)}\")\n",
    "\n",
    "Xt_acc_f, Xc_acc_f, y_acc_f = remove_windows_by_indices(Xt_acc_f, Xc_acc_f, y_acc_f, inconsistent_indices)\n",
    "Xt_gyr_f, Xc_gyr_f, y_gyr_f = remove_windows_by_indices(Xt_gyr_f, Xc_gyr_f, y_gyr_f, inconsistent_indices)\n",
    "Xt_mag_f, Xc_mag_f, y_mag_f = remove_windows_by_indices(Xt_mag_f, Xc_mag_f, y_mag_f, inconsistent_indices)\n",
    "Xt_mic_f, Xc_mic_f, y_mic_f = remove_windows_by_indices(Xt_mic_f, Xc_mic_f, y_mic_f, inconsistent_indices)\n",
    "\n",
    "inconsistent_indices = [\n",
    "    i for i in range(len(y_acc_f))\n",
    "    if not (y_acc_f[i] == y_gyr_f[i] == y_mag_f[i] == y_mic_f[i])\n",
    "]\n",
    "print(f\"The number of mismatched windows after removing across 4 modalities (should be zero): {len(inconsistent_indices)}\")\n",
    "\n",
    "print(\"-----------------------------------------------\")\n",
    "print(f\"[ACC] Number of windows after removing mismatched window indices: {len(y_acc_f)}\")\n",
    "print(f\"[GYR] Number of windows after removing mismatched window indices: {len(y_gyr_f)}\")\n",
    "print(f\"[MAG] Number of windows after removing mismatched window indices: {len(y_mag_f)}\")\n",
    "print(f\"[MIC] Number of windows after removing mismatched window indices: {len(y_mic_f)}\")\n",
    "\n",
    "print(y_mic_f[5568])\n"
   ]
  },
  {
   "cell_type": "code",
   "execution_count": 16,
   "id": "35f069d4",
   "metadata": {},
   "outputs": [],
   "source": [
    "# import pandas as pd\n",
    "# from datetime import datetime, timezone\n",
    "\n",
    "# # Function to format timestamp as a readable string\n",
    "# def format_timestamp(ts):\n",
    "#     return datetime.fromtimestamp(ts, tz=timezone.utc).strftime('%Y-%m-%d %H:%M:%S.%f')[:-3]\n",
    "\n",
    "# # Collect data for all windows\n",
    "# window_data = []\n",
    "\n",
    "# for i in range(len(Xt_acc_f)):\n",
    "#     start_ts = Xt_acc_f[i][0][0]\n",
    "#     end_ts = Xt_acc_f[i][-1][0]\n",
    "#     duration = end_ts - start_ts\n",
    "\n",
    "#     window_data.append({\n",
    "#         \"Window\": i,\n",
    "#         \"Start_Timestamp\": start_ts,\n",
    "#         \"End_Timestamp\": end_ts,\n",
    "#         \"Start_Time_UTC\": format_timestamp(start_ts),\n",
    "#         \"End_Time_UTC\": format_timestamp(end_ts),\n",
    "#         \"Duration_sec\": round(duration, 4),\n",
    "#         \"label\": y_acc_f[i]\n",
    "#     })\n",
    "\n",
    "# # Create DataFrame and save to CSV\n",
    "# df = pd.DataFrame(window_data)\n",
    "# csv_path = \"filtered_accelerometer_window_times.csv\"\n",
    "# df.to_csv(csv_path, index=False)\n",
    "\n",
    "# print(f\"[INFO] Saved window timestamp data to {csv_path}\")\n"
   ]
  },
  {
   "cell_type": "code",
   "execution_count": 17,
   "id": "1493b94d",
   "metadata": {},
   "outputs": [
    {
     "name": "stdout",
     "output_type": "stream",
     "text": [
      "[ACC] Unique labels and their counts:\n",
      "  Label: 2, Count: 821\n",
      "  Label: 3, Count: 334\n",
      "  Label: 4, Count: 298\n",
      "  Label: 5, Count: 131\n",
      "  Label: 6, Count: 67\n",
      "  Label: 7, Count: 87\n",
      "  Label: 8, Count: 5391\n",
      "  Label: 14, Count: 12\n",
      "[GYR] Unique labels and their counts:\n",
      "  Label: 2, Count: 821\n",
      "  Label: 3, Count: 334\n",
      "  Label: 4, Count: 298\n",
      "  Label: 5, Count: 131\n",
      "  Label: 6, Count: 67\n",
      "  Label: 7, Count: 87\n",
      "  Label: 8, Count: 5391\n",
      "  Label: 14, Count: 12\n",
      "[MAG] Unique labels and their counts:\n",
      "  Label: 2, Count: 821\n",
      "  Label: 3, Count: 334\n",
      "  Label: 4, Count: 298\n",
      "  Label: 5, Count: 131\n",
      "  Label: 6, Count: 67\n",
      "  Label: 7, Count: 87\n",
      "  Label: 8, Count: 5391\n",
      "  Label: 14, Count: 12\n",
      "[MIC] Unique labels and their counts:\n",
      "  Label: 2, Count: 821\n",
      "  Label: 3, Count: 334\n",
      "  Label: 4, Count: 298\n",
      "  Label: 5, Count: 131\n",
      "  Label: 6, Count: 67\n",
      "  Label: 7, Count: 87\n",
      "  Label: 8, Count: 5391\n",
      "  Label: 14, Count: 12\n"
     ]
    }
   ],
   "source": [
    "# To get the unique lables and their counts\n",
    "\n",
    "# For Accelerometer\n",
    "unique_acc, counts_acc = np.unique(y_acc_f, return_counts=True)\n",
    "print(\"[ACC] Unique labels and their counts:\")\n",
    "for label, count in zip(unique_acc, counts_acc):\n",
    "    print(f\"  Label: {label}, Count: {count}\")\n",
    "\n",
    "# For Gyroscope\n",
    "unique_gyr, counts_gyr = np.unique(y_gyr_f, return_counts=True)\n",
    "print(\"[GYR] Unique labels and their counts:\")\n",
    "for label, count in zip(unique_gyr, counts_gyr):\n",
    "    print(f\"  Label: {label}, Count: {count}\")\n",
    "\n",
    "# For Magnetometer\n",
    "unique_mag, counts_mag = np.unique(y_mag_f, return_counts=True)\n",
    "print(\"[MAG] Unique labels and their counts:\")\n",
    "for label, count in zip(unique_mag, counts_mag):\n",
    "    print(f\"  Label: {label}, Count: {count}\")\n",
    "\n",
    "# For Microphone\n",
    "unique_mic, counts_mic = np.unique(y_mic_f, return_counts=True)\n",
    "print(\"[MIC] Unique labels and their counts:\")\n",
    "for label, count in zip(unique_mic, counts_mic):\n",
    "    print(f\"  Label: {label}, Count: {count}\")\n"
   ]
  },
  {
   "cell_type": "code",
   "execution_count": 18,
   "id": "e5c215ef",
   "metadata": {},
   "outputs": [
    {
     "data": {
      "image/png": "[encoded data removed]",
      "text/plain": [
       "<Figure size 1000x600 with 1 Axes>"
      ]
     },
     "metadata": {},
     "output_type": "display_data"
    }
   ],
   "source": [
    "# Plot label distribution\n",
    "\n",
    "import matplotlib.pyplot as plt\n",
    "\n",
    "# Get unique labels and their counts\n",
    "unique_labels, counts = np.unique(y_acc_f, return_counts=True)\n",
    "\n",
    "# Plotting\n",
    "plt.figure(figsize=(10, 6))\n",
    "bars = plt.bar(unique_labels, counts, color='skyblue', edgecolor='black')\n",
    "\n",
    "# Add annotations (counts) above each bar\n",
    "for bar, count in zip(bars, counts):\n",
    "    height = bar.get_height()\n",
    "    plt.text(bar.get_x() + bar.get_width() / 2, height + 10, str(count), \n",
    "             ha='center', va='bottom', fontsize=10)\n",
    "\n",
    "plt.xlabel('Labels')\n",
    "plt.ylabel('Count')\n",
    "plt.title('Label Distribution for Accelerometer Data')\n",
    "plt.xticks(unique_labels)  # ensure all labels are shown\n",
    "plt.grid(axis='y', linestyle='--', alpha=0.7)\n",
    "plt.tight_layout()\n",
    "plt.show()\n"
   ]
  },
  {
   "cell_type": "code",
   "execution_count": 19,
   "id": "2fea89ca",
   "metadata": {},
   "outputs": [
    {
     "name": "stdout",
     "output_type": "stream",
     "text": [
      "[INFO] 7141 windows with 41 sample each (time stamps and 3 axis accelerometer)\n",
      "[INFO] 7141 windows with 41 sample each (time stamps and 3 axis gyroscope)\n",
      "[INFO] 7141 windows with 62 sample each (time stamps and 3 axis magnetometer)\n",
      "[INFO] 7141 windows with 3200 sample each (time stamps and 1 axis microphone)\n"
     ]
    }
   ],
   "source": [
    "# Verify that the number of windows and window length are consistent\n",
    "print(f\"[INFO] {Xt_acc_f.shape[0]} windows with {Xt_acc_f[0].shape[0]} sample each (time stamps and 3 axis accelerometer)\")\n",
    "print(f\"[INFO] {Xt_gyr_f.shape[0]} windows with {Xt_gyr_f[0].shape[0]} sample each (time stamps and 3 axis gyroscope)\")\n",
    "print(f\"[INFO] {Xt_mag_f.shape[0]} windows with {Xt_mag_f[0].shape[0]} sample each (time stamps and 3 axis magnetometer)\")\n",
    "print(f\"[INFO] {Xt_mic_f.shape[0]} windows with {Xt_mic_f[0].shape[0]} sample each (time stamps and 1 axis microphone)\")\n",
    "\n",
    "# assert Xt_acc_f.shape[0] == Xt_gyr_f.shape[0] == Xt_mag_f.shape[0], \"Number of windows is not equal\"\n"
   ]
  },
  {
   "cell_type": "markdown",
   "id": "0cc22547",
   "metadata": {},
   "source": [
    "### Code: Interpolation + Timestamp-aligned Downsampling"
   ]
  },
  {
   "cell_type": "code",
   "execution_count": 20,
   "id": "e303e867",
   "metadata": {},
   "outputs": [
    {
     "name": "stdout",
     "output_type": "stream",
     "text": [
      "7141\n",
      "[INFO] Combined data shape: (7141, 41, 11)\n",
      "[INFO] Combined label shape: (7141,)\n",
      "[INFO] Example entry (first window, first time step): [ 1.59422628e+09 -5.87737800e+00  1.32205100e+00  8.61249100e+00\n",
      " -1.06526400e-02  1.17179100e-02 -2.13052900e-02  2.26842736e-04\n",
      "  5.35707827e-05 -6.92888209e-04  7.00000000e+00]\n"
     ]
    }
   ],
   "source": [
    "import numpy as np\n",
    "from scipy.interpolate import interp1d\n",
    "from scipy.signal import resample\n",
    "import pandas as pd\n",
    "\n",
    "# Assuming Xt_acc_f, Xt_gyr_f, Xt_mag_f, Xt_mic_f, y_acc_f are already loaded\n",
    "\n",
    "# Determine the number of usable windows\n",
    "num_windows = min(Xt_acc_f.shape[0], Xt_gyr_f.shape[0], Xt_mag_f.shape[0], Xt_mic_f.shape[0])\n",
    "Xt_acc_f = Xt_acc_f[:num_windows]\n",
    "Xt_gyr_f = Xt_gyr_f[:num_windows]\n",
    "Xt_mag_f = Xt_mag_f[:num_windows]\n",
    "Xt_mic_f = Xt_mic_f[:num_windows]\n",
    "y_filtered = y_acc_f[:num_windows]\n",
    "\n",
    "print(num_windows)\n",
    "\n",
    "combined_data = []\n",
    "combined_labels = []\n",
    "\n",
    "target_length = 41  # downsample target\n",
    "\n",
    "for i in range(num_windows):\n",
    "    # Extract timestamps and values\n",
    "    time_acc = Xt_acc_f[i][:, 0]\n",
    "    acc_values = Xt_acc_f[i][:, 1:]\n",
    "\n",
    "    time_gyr = Xt_gyr_f[i][:, 0]\n",
    "    gyr_values = Xt_gyr_f[i][:, 1:]\n",
    "\n",
    "    time_mag = Xt_mag_f[i][:, 0]\n",
    "    mag_values = Xt_mag_f[i][:, 1:]\n",
    "\n",
    "    time_mic = Xt_mic_f[i][:, 0]\n",
    "    mic_values = Xt_mic_f[i][:, 1]\n",
    "\n",
    "    # Use accelerometer timestamps as the reference time grid\n",
    "    reference_time = time_acc\n",
    "\n",
    "    # Interpolate each sensor to match the accelerometer's timestamps\n",
    "    def safe_interp(original_time, values, target_time, num_axes=1):\n",
    "        try:\n",
    "            if num_axes == 1:\n",
    "                f = interp1d(original_time, values, bounds_error=False, fill_value=\"extrapolate\")\n",
    "                return f(target_time).reshape(-1, 1)\n",
    "            else:\n",
    "                return np.stack([\n",
    "                    interp1d(original_time, values[:, j], bounds_error=False, fill_value=\"extrapolate\")(target_time)\n",
    "                    for j in range(num_axes)\n",
    "                ], axis=-1)\n",
    "        except Exception as e:\n",
    "            print(f\"[WARN] Interpolation failed at window {i}: {e}\")\n",
    "            return np.full((len(target_time), num_axes), np.nan)\n",
    "\n",
    "    acc_interp = acc_values  # already aligned\n",
    "    gyr_interp = safe_interp(time_gyr, gyr_values, reference_time, 3)\n",
    "    mag_interp = safe_interp(time_mag, mag_values, reference_time, 3)\n",
    "    mic_interp = safe_interp(time_mic, mic_values, reference_time, 1)\n",
    "\n",
    "    # Combine everything into one aligned signal: [t, acc, gyr, mag, mic]\n",
    "    aligned = np.concatenate([\n",
    "        reference_time.reshape(-1, 1),  # shape: (41, 1)\n",
    "        acc_interp,\n",
    "        gyr_interp,\n",
    "        mag_interp,\n",
    "        mic_interp\n",
    "    ], axis=1)  # shape: (41, 11)\n",
    "\n",
    "    # Downsample the aligned signal to target_length (still 41 in our case)\n",
    "    aligned_downsampled = resample(aligned, target_length, axis=0)\n",
    "\n",
    "    combined_data.append(aligned_downsampled)\n",
    "    combined_labels.append(y_filtered[i])\n",
    "\n",
    "# Final arrays\n",
    "combined_data = np.array(combined_data)       # shape: (num_windows, 41, 11)\n",
    "combined_labels = np.array(combined_labels)   # shape: (num_windows,)\n",
    "\n",
    "print(\"[INFO] Combined data shape:\", combined_data.shape)\n",
    "print(\"[INFO] Combined label shape:\", combined_labels.shape)\n",
    "print(\"[INFO] Example entry (first window, first time step):\", combined_data[0][0])\n",
    "\n",
    "# Flatten combined_data to 2D\n",
    "num_windows, time_steps, features = combined_data.shape\n",
    "flattened_data = combined_data.reshape(num_windows, -1)\n",
    "\n",
    "# Save data\n",
    "data_df = pd.DataFrame(flattened_data)\n",
    "data_df.to_csv('ES_InterDown_combined_data.csv', index=False)\n",
    "\n",
    "# Save labels\n",
    "labels_df = pd.DataFrame(combined_labels, columns=['label'])\n",
    "labels_df.to_csv('ES_InterDown_combined_labels.csv', index=False)"
   ]
  },
  {
   "cell_type": "markdown",
   "id": "aa812351",
   "metadata": {},
   "source": [
    "### Code with Downsampling to 41 Samples"
   ]
  },
  {
   "cell_type": "code",
   "execution_count": 21,
   "id": "10fc11e8",
   "metadata": {},
   "outputs": [],
   "source": [
    "# from scipy.signal import resample\n",
    "\n",
    "# # Assuming Xt_acc_f, Xt_gyr_f (7259 × 41),\n",
    "# # Xt_mag_f (7219 × 62), Xt_mic_f (7185 × 3200), and y_acc_f are loaded\n",
    "\n",
    "# # Trim all datasets to the smallest common window count\n",
    "# num_windows = min(Xt_acc_f.shape[0], Xt_gyr_f.shape[0], Xt_mag_f.shape[0], Xt_mic_f.shape[0])\n",
    "# Xt_acc_f = Xt_acc_f[:num_windows]\n",
    "# Xt_gyr_f = Xt_gyr_f[:num_windows]\n",
    "# Xt_mag_f = Xt_mag_f[:num_windows]\n",
    "# Xt_mic_f = Xt_mic_f[:num_windows]\n",
    "# y_filtered = y_acc_f[:num_windows]\n",
    "\n",
    "# combined_data = []\n",
    "# combined_labels = []\n",
    "# target_length = 41  # downsample everything to 41 samples\n",
    "\n",
    "# for i in range(num_windows):\n",
    "#     # Separate timestamps and values\n",
    "#     time_acc = Xt_acc_f[i][:, 0]\n",
    "#     acc_values = Xt_acc_f[i][:, 1:]  # shape: (41, 3)\n",
    "\n",
    "#     time_gyr = Xt_gyr_f[i][:, 0]\n",
    "#     gyr_values = Xt_gyr_f[i][:, 1:]  # shape: (41, 3)\n",
    "\n",
    "#     time_mag = Xt_mag_f[i][:, 0]\n",
    "#     mag_values = Xt_mag_f[i][:, 1:]  # shape: (62, 3)\n",
    "\n",
    "#     time_mic = Xt_mic_f[i][:, 0]\n",
    "#     mic_values = Xt_mic_f[i][:, 1]   # shape: (3200,)\n",
    "\n",
    "#     # Downsample magnetometer to 41 samples\n",
    "#     mag_downsampled = resample(mag_values, target_length)\n",
    "\n",
    "#     # Downsample microphone to 41 samples (keep as (41, 1))\n",
    "#     mic_downsampled = resample(mic_values, target_length).reshape(-1, 1)\n",
    "\n",
    "#     # Use accelerometer timestamps as the unified time vector\n",
    "#     new_time = time_acc.reshape(-1, 1)\n",
    "\n",
    "#     # Combine all features (shape: 41 × (1 + 3 + 3 + 3 + 1) = 41 × 11)\n",
    "#     combined_features = np.concatenate(\n",
    "#         (new_time, acc_values, gyr_values, mag_downsampled, mic_downsampled),\n",
    "#         axis=1\n",
    "#     )\n",
    "#     combined_data.append(combined_features)\n",
    "#     combined_labels.append(y_filtered[i])\n",
    "\n",
    "# # Final array shapes\n",
    "# combined_data = np.array(combined_data)       # shape: (num_windows, 41, 11)\n",
    "# combined_labels = np.array(combined_labels)   # shape: (num_windows,)"
   ]
  },
  {
   "cell_type": "code",
   "execution_count": 22,
   "id": "5d1a15ed",
   "metadata": {},
   "outputs": [
    {
     "name": "stdout",
     "output_type": "stream",
     "text": [
      "[INFO] Shape of combined data: (7141, 41, 11)\n",
      "[INFO] Shape of combined labels: (7141,)\n",
      "[INFO] Feature example (first window, first step): [ 1.59422628e+09 -5.87737800e+00  1.32205100e+00  8.61249100e+00\n",
      " -1.06526400e-02  1.17179100e-02 -2.13052900e-02  2.26842736e-04\n",
      "  5.35707827e-05 -6.92888209e-04  7.00000000e+00]\n",
      "[INFO] First label: 8\n"
     ]
    }
   ],
   "source": [
    "print(\"[INFO] Shape of combined data:\", combined_data.shape)\n",
    "print(\"[INFO] Shape of combined labels:\", combined_labels.shape)\n",
    "print(\"[INFO] Feature example (first window, first step):\", combined_data[0][0])\n",
    "print(\"[INFO] First label:\", combined_labels[0])"
   ]
  },
  {
   "cell_type": "markdown",
   "id": "df7479ac",
   "metadata": {},
   "source": [
    "## Code for upsampling"
   ]
  },
  {
   "cell_type": "code",
   "execution_count": 23,
   "id": "0ba6237b",
   "metadata": {},
   "outputs": [],
   "source": [
    "# import numpy as np\n",
    "# from scipy.interpolate import interp1d\n",
    "\n",
    "# # Assuming Xt_acc_f, Xt_gyr_f (number of windows >= 7219, 41 samples),\n",
    "# # Xt_mag_f (7219 windows, 62 samples), and y_acc_f (number of windows >= 7219) are loaded\n",
    "\n",
    "# num_windows = min(Xt_acc_f.shape[0], Xt_gyr_f.shape[0], Xt_mag_f.shape[0])\n",
    "# Xt_acc_f = Xt_acc_f[:num_windows]\n",
    "# Xt_gyr_f = Xt_gyr_f[:num_windows]\n",
    "# Xt_mag_f = Xt_mag_f[:num_windows]\n",
    "# y_filtered = y_acc_f[:num_windows] # Assuming y_acc_f is the correct label set\n",
    "\n",
    "# combined_data = []\n",
    "# combined_labels = []\n",
    "# target_length = 62\n",
    "\n",
    "# for i in range(num_windows):\n",
    "#     time_acc = Xt_acc_f[i][:, 0]\n",
    "#     acc_values = Xt_acc_f[i][:, 1:]\n",
    "#     time_gyr = Xt_gyr_f[i][:, 0]\n",
    "#     gyr_values = Xt_gyr_f[i][:, 1:]\n",
    "#     time_mag = Xt_mag_f[i][:, 0]\n",
    "#     mag_values = Xt_mag_f[i][:, 1:]\n",
    "\n",
    "#     # Create interpolation functions for each sensor axis\n",
    "#     interp_acc = [interp1d(time_acc, acc_values[:, j], fill_value=\"extrapolate\") for j in range(3)]\n",
    "#     interp_gyr = [interp1d(time_gyr, gyr_values[:, j], fill_value=\"extrapolate\") for j in range(3)]\n",
    "#     interp_mag = [interp1d(time_mag, mag_values[:, j], fill_value=\"extrapolate\") for j in range(3)]\n",
    "\n",
    "#     # Create a new time vector of the target length (using the time range of the longest sequence)\n",
    "#     start_time = min(time_acc[0], time_gyr[0], time_mag[0])\n",
    "#     end_time = max(time_acc[-1], time_gyr[-1], time_mag[-1])\n",
    "#     new_time = np.linspace(start_time, end_time, target_length)\n",
    "\n",
    "#     # Interpolate the sensor values at the new time points\n",
    "#     resampled_acc = np.array([interp_acc[j](new_time) for j in range(3)]).T\n",
    "#     resampled_gyr = np.array([interp_gyr[j](new_time) for j in range(3)]).T\n",
    "#     resampled_mag = np.array([interp_mag[j](new_time) for j in range(3)]).T\n",
    "\n",
    "#     # Combine the timestamp and resampled sensor data\n",
    "#     combined_features = np.concatenate((new_time[:, np.newaxis], resampled_acc, resampled_gyr, resampled_mag), axis=1)\n",
    "#     combined_data.append(combined_features)\n",
    "#     combined_labels.append(y_filtered[i])\n",
    "\n",
    "# combined_data = np.array(combined_data)\n",
    "# combined_labels = np.array(combined_labels)\n",
    "\n",
    "# print(\"[INFO] Shape of combined data:\", combined_data.shape)\n",
    "# print(\"[INFO] Shape of combined labels:\", combined_labels.shape)\n",
    "# print(\"[INFO] Example of combined data for the first window, first time step:\")\n",
    "# print(combined_data[0][0])\n",
    "# print(\"[INFO] Example of the first combined label:\")\n",
    "# print(combined_labels[0])\n",
    "\n",
    "# # Now you can proceed with splitting and scaling this combined_data"
   ]
  },
  {
   "cell_type": "code",
   "execution_count": 24,
   "id": "f6000981",
   "metadata": {},
   "outputs": [
    {
     "data": {
      "image/png": "[encoded data removed]",
      "text/plain": [
       "<Figure size 1500x1000 with 3 Axes>"
      ]
     },
     "metadata": {},
     "output_type": "display_data"
    }
   ],
   "source": [
    "import matplotlib.pyplot as plt\n",
    "import numpy as np\n",
    "\n",
    "# Assuming 'combined_data' is your NumPy array of shape (num_windows, time_steps, features)\n",
    "\n",
    "# Select the first window\n",
    "window_index = 0\n",
    "time = combined_data[window_index][:, 0]\n",
    "acc_x = combined_data[window_index][:, 1]\n",
    "acc_y = combined_data[window_index][:, 2]\n",
    "acc_z = combined_data[window_index][:, 3]\n",
    "gyr_x = combined_data[window_index][:, 4]\n",
    "gyr_y = combined_data[window_index][:, 5]\n",
    "gyr_z = combined_data[window_index][:, 6]\n",
    "mag_x = combined_data[window_index][:, 7]\n",
    "mag_y = combined_data[window_index][:, 8]\n",
    "mag_z = combined_data[window_index][:, 9]\n",
    "\n",
    "plt.figure(figsize=(15, 10))\n",
    "\n",
    "plt.subplot(3, 1, 1)\n",
    "plt.plot(time, acc_x, label='Acc X')\n",
    "plt.plot(time, acc_y, label='Acc Y')\n",
    "plt.plot(time, acc_z, label='Acc Z')\n",
    "plt.title(f'Accelerometer Data (Window {window_index})')\n",
    "plt.xlabel('Time')\n",
    "plt.ylabel('Acceleration')\n",
    "plt.legend()\n",
    "plt.grid(True)\n",
    "\n",
    "plt.subplot(3, 1, 2)\n",
    "plt.plot(time, gyr_x, label='Gyr X')\n",
    "plt.plot(time, gyr_y, label='Gyr Y')\n",
    "plt.plot(time, gyr_z, label='Gyr Z')\n",
    "plt.title(f'Gyroscope Data (Window {window_index})')\n",
    "plt.xlabel('Time')\n",
    "plt.ylabel('Angular Velocity')\n",
    "plt.legend()\n",
    "plt.grid(True)\n",
    "\n",
    "plt.subplot(3, 1, 3)\n",
    "plt.plot(time, mag_x, label='Mag X')\n",
    "plt.plot(time, mag_y, label='Mag Y')\n",
    "plt.plot(time, mag_z, label='Mag Z')\n",
    "plt.title(f'Magnetometer Data (Window {window_index})')\n",
    "plt.xlabel('Time')\n",
    "plt.ylabel('Magnetic Field')\n",
    "plt.legend()\n",
    "plt.grid(True)\n",
    "\n",
    "plt.tight_layout()\n",
    "plt.show()\n",
    "\n",
    "# You can also plot other windows by changing the 'window_index' variable"
   ]
  }
 ],
 "metadata": {
  "kernelspec": {
   "display_name": "tool-tracking_env",
   "language": "python",
   "name": "python3"
  },
  "language_info": {
   "codemirror_mode": {
    "name": "ipython",
    "version": 3
   },
   "file_extension": ".py",
   "mimetype": "text/x-python",
   "name": "python",
   "nbconvert_exporter": "python",
   "pygments_lexer": "ipython3",
   "version": "3.12.9"
  }
 },
 "nbformat": 4,
 "nbformat_minor": 5
}
