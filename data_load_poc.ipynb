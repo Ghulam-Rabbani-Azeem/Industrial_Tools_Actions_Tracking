{
 "cells": [
  {
   "cell_type": "code",
   "execution_count": 1,
   "id": "3e2ba515",
   "metadata": {},
   "outputs": [],
   "source": [
    "source = \"./tool-tracking-data/\""
   ]
  },
  {
   "cell_type": "code",
   "execution_count": 2,
   "id": "cb1342ef",
   "metadata": {},
   "outputs": [],
   "source": [
    "from datatools import MeasurementDataReader\n",
    "mdr = MeasurementDataReader(source=source)"
   ]
  },
  {
   "cell_type": "code",
   "execution_count": 3,
   "id": "8b38ba2f",
   "metadata": {},
   "outputs": [],
   "source": [
    "from datatools import Tool\n",
    "\n",
    "mytool = \"electric_screwdriver\"\n",
    "#mytool = \"pneumatic_screwdriver\""
   ]
  },
  {
   "cell_type": "code",
   "execution_count": 4,
   "id": "50a30cb9",
   "metadata": {},
   "outputs": [],
   "source": [
    "import numpy as np\n",
    "from seglearn.base import TS_Data\n",
    "from seglearn.pipe import Pype\n",
    "from fhgutils import Segment, contextual_recarray_dtype, filter_ts_data\n",
    "from datatools import to_ts_data\n"
   ]
  },
  {
   "cell_type": "markdown",
   "id": "3750d617",
   "metadata": {},
   "source": [
    "### 1. Raw extract windows"
   ]
  },
  {
   "cell_type": "code",
   "execution_count": 5,
   "id": "3d67f7b7",
   "metadata": {},
   "outputs": [
    {
     "name": "stdout",
     "output_type": "stream",
     "text": [
      "[INFO] Preparing data from:\n",
      "  tool-tracking-data\\electric_screwdriver\\pythagoras-10-20200716\n",
      "  tool-tracking-data\\electric_screwdriver\\pythagoras-10-20200716\n",
      "  tool-tracking-data\\electric_screwdriver\\pythagoras-10-20200716\n",
      "  tool-tracking-data\\electric_screwdriver\\pythagoras-10-20200716\n"
     ]
    },
    {
     "name": "stderr",
     "output_type": "stream",
     "text": [
      "[INFO] Read data:   0%|          | 0/16 [00:00<?, ?it/s]"
     ]
    },
    {
     "name": "stderr",
     "output_type": "stream",
     "text": [
      "[INFO] Read data:  25%|██▌       | 4/16 [00:00<00:00, 36.45it/s, file=ACC-04-102.291.csv]"
     ]
    },
    {
     "name": "stdout",
     "output_type": "stream",
     "text": [
      "[WARN] The mean sampling rate from the filename (tool-tracking-data\\electric_screwdriver\\pythagoras-10-20200716\\ACC-01-102.291.csv) and from the timestamps differ by 0.001Hz\n",
      "\n",
      "[WARN] The mean sampling rate from the filename (tool-tracking-data\\electric_screwdriver\\pythagoras-10-20200716\\ACC-02-102.291.csv) and from the timestamps differ by 0.001Hz\n",
      "\n",
      "[WARN] The mean sampling rate from the filename (tool-tracking-data\\electric_screwdriver\\pythagoras-10-20200716\\ACC-03-102.291.csv) and from the timestamps differ by 0.001Hz\n",
      "\n",
      "[WARN] The mean sampling rate from the filename (tool-tracking-data\\electric_screwdriver\\pythagoras-10-20200716\\ACC-04-102.291.csv) and from the timestamps differ by 0.001Hz\n",
      "\n",
      "[WARN] The mean sampling rate from the filename (tool-tracking-data\\electric_screwdriver\\pythagoras-10-20200716\\GYR-01-102.291.csv) and from the timestamps differ by 0.001Hz\n",
      "\n",
      "[WARN] The mean sampling rate from the filename (tool-tracking-data\\electric_screwdriver\\pythagoras-10-20200716\\GYR-02-102.291.csv) and from the timestamps differ by 0.001Hz\n",
      "\n"
     ]
    },
    {
     "name": "stderr",
     "output_type": "stream",
     "text": [
      "[INFO] Read data:  50%|█████     | 8/16 [00:00<00:00, 36.46it/s, file=GYR-04-102.291.csv]"
     ]
    },
    {
     "name": "stdout",
     "output_type": "stream",
     "text": [
      "[WARN] The mean sampling rate from the filename (tool-tracking-data\\electric_screwdriver\\pythagoras-10-20200716\\GYR-03-102.291.csv) and from the timestamps differ by 0.001Hz\n",
      "\n",
      "[WARN] The mean sampling rate from the filename (tool-tracking-data\\electric_screwdriver\\pythagoras-10-20200716\\GYR-04-102.291.csv) and from the timestamps differ by 0.001Hz\n",
      "\n"
     ]
    },
    {
     "name": "stderr",
     "output_type": "stream",
     "text": [
      "[INFO] Read data:  75%|███████▌  | 12/16 [00:00<00:00, 30.62it/s, file=MAG-04-154.967.csv]"
     ]
    },
    {
     "name": "stdout",
     "output_type": "stream",
     "text": [
      "[WARN] The mean sampling rate from the filename (tool-tracking-data\\electric_screwdriver\\pythagoras-10-20200716\\MAG-01-155.087.csv) and from the timestamps differ by 0.001Hz\n",
      "\n",
      "[WARN] The mean sampling rate from the filename (tool-tracking-data\\electric_screwdriver\\pythagoras-10-20200716\\MAG-02-154.679.csv) and from the timestamps differ by 0.001Hz\n",
      "\n",
      "[WARN] The mean sampling rate from the filename (tool-tracking-data\\electric_screwdriver\\pythagoras-10-20200716\\MAG-03-154.871.csv) and from the timestamps differ by 0.002Hz\n",
      "\n",
      "[WARN] The mean sampling rate from the filename (tool-tracking-data\\electric_screwdriver\\pythagoras-10-20200716\\MAG-04-154.967.csv) and from the timestamps differ by 0.001Hz\n",
      "\n"
     ]
    },
    {
     "name": "stderr",
     "output_type": "stream",
     "text": [
      "[INFO] Read annotation: 100%|██████████| 16/16 [00:03<00:00,  5.32it/s, file=data-04.annotation]\n"
     ]
    },
    {
     "name": "stdout",
     "output_type": "stream",
     "text": [
      "[INFO] Finished with 4 measurement(s).\n",
      "###############################################\n",
      "Number of sequences: 16\n",
      "Sequence 0: Type = <class 'numpy.ndarray'>, Shape = (41775, 4)\n",
      "Sequence 1: Type = <class 'numpy.ndarray'>, Shape = (41775, 4)\n",
      "Sequence 2: Type = <class 'numpy.ndarray'>, Shape = (63336, 4)\n",
      "Sequence 3: Type = <class 'numpy.ndarray'>, Shape = (3267040, 2)\n",
      "Sequence 4: Type = <class 'numpy.ndarray'>, Shape = (41439, 4)\n",
      "Sequence 5: Type = <class 'numpy.ndarray'>, Shape = (41439, 4)\n",
      "Sequence 6: Type = <class 'numpy.ndarray'>, Shape = (62658, 4)\n",
      "Sequence 7: Type = <class 'numpy.ndarray'>, Shape = (3240640, 2)\n",
      "Sequence 8: Type = <class 'numpy.ndarray'>, Shape = (33620, 4)\n",
      "Sequence 9: Type = <class 'numpy.ndarray'>, Shape = (33620, 4)\n",
      "Sequence 10: Type = <class 'numpy.ndarray'>, Shape = (50902, 4)\n",
      "Sequence 11: Type = <class 'numpy.ndarray'>, Shape = (2629280, 2)\n",
      "Sequence 12: Type = <class 'numpy.ndarray'>, Shape = (31927, 4)\n",
      "Sequence 13: Type = <class 'numpy.ndarray'>, Shape = (31927, 4)\n",
      "Sequence 14: Type = <class 'numpy.ndarray'>, Shape = (48368, 4)\n",
      "Sequence 15: Type = <class 'numpy.ndarray'>, Shape = (2496960, 2)\n",
      "[INFO] segment ['acc' 'gyr' 'mag' 'mic'] together\n",
      "[INFO] segment ['acc' 'gyr' 'mag' 'mic'] together\n",
      "[INFO] segment ['acc' 'gyr' 'mag' 'mic'] together\n",
      "[INFO] segment ['acc' 'gyr' 'mag' 'mic'] together\n",
      "Segment: 100%|██████████| 29060/29060 [00:00<00:00, 42804.33it/s]\n"
     ]
    }
   ],
   "source": [
    "window_length=0.4 # unit in s\n",
    "overlap = 0.5 # unit in percent\n",
    "\n",
    "# clean and window data\n",
    "data_dict = mdr.query().filter_by(Tool == mytool).get()\n",
    "Xt, Xc, y = to_ts_data(data_dict, contextual_recarray_dtype)\n",
    "\n",
    "X = TS_Data(Xt, Xc)\n",
    "pipe = Pype([\n",
    "    ('segment', Segment(window_length=window_length, overlap=overlap, enforce_size=True, n=len(np.unique(Xc.desc))))\n",
    "])\n",
    "\n",
    "print('###############################################')\n",
    "print(\"Number of sequences:\", len(X.ts_data))\n",
    "for i, seq in enumerate(X.ts_data):\n",
    "    print(f\"Sequence {i}: Type = {type(seq)}, Shape = {np.shape(seq)}\")\n",
    "\n",
    "\n",
    "X_trans, y_trans = pipe.fit_transform(X, y)"
   ]
  },
  {
   "cell_type": "markdown",
   "id": "659592c5",
   "metadata": {},
   "source": [
    "### To get the class and corresponding labels"
   ]
  },
  {
   "cell_type": "code",
   "execution_count": 6,
   "id": "e85305d4",
   "metadata": {},
   "outputs": [
    {
     "name": "stdout",
     "output_type": "stream",
     "text": [
      "{7: 'shaking', 3: 'untightening', 2: 'tightening', 4: 'motor_activity_cw', 5: 'motor_activity_ccw', 6: 'manual_motor_rotation', 14: 'tightening_double', 8: 'undefined'}\n"
     ]
    }
   ],
   "source": [
    "print(data_dict[\"01\"][\"classes\"])"
   ]
  },
  {
   "cell_type": "code",
   "execution_count": 7,
   "id": "22a39b17",
   "metadata": {},
   "outputs": [
    {
     "name": "stdout",
     "output_type": "stream",
     "text": [
      "[INFO] extract segmented ACC data\n",
      "[INFO] extract segmented GYR data\n",
      "[INFO] extract segmented MAG data\n",
      "[INFO] extract segmented MIC data\n"
     ]
    }
   ],
   "source": [
    "\n",
    "print(\"[INFO] extract segmented ACC data\")\n",
    "Xt_acc, Xc_acc, y_acc = filter_ts_data(X_trans, y_trans, filt={'desc': ['acc']})\n",
    "\n",
    "print(\"[INFO] extract segmented GYR data\")\n",
    "Xt_gyr, Xc_gyr, y_gyr = filter_ts_data(X_trans, y_trans, filt={'desc': ['gyr']})\n",
    "\n",
    "print(\"[INFO] extract segmented MAG data\")\n",
    "Xt_mag, Xc_mag, y_mag = filter_ts_data(X_trans, y_trans, filt={'desc': ['mag']})\n",
    "\n",
    "print(\"[INFO] extract segmented MIC data\")\n",
    "Xt_mic, Xc_mic, y_mic = filter_ts_data(X_trans, y_trans, filt={'desc': ['mic']})\n"
   ]
  },
  {
   "cell_type": "code",
   "execution_count": 8,
   "id": "d0f934b3",
   "metadata": {},
   "outputs": [
    {
     "name": "stdout",
     "output_type": "stream",
     "text": [
      "[INFO] shape of ACC data is (7265,)\n",
      "[INFO] shape of GYR data is (7265,)\n",
      "[INFO] shape of MAG data is (7265,)\n",
      "[INFO] shape of MIC data is (7265,)\n",
      "[INFO] 7265 windows with 41 sample each (time stamps and 3 axis gyroscope)\n",
      "[INFO] 7265 windows with 41 sample each (time stamps and 3 axis accelerometer)\n",
      "[INFO] 7265 windows with 62 sample each (time stamps and 3 axis magnetometer)\n",
      "[INFO] 7265 windows with 3200 sample each (time stamps and 1 axis microphone)\n"
     ]
    }
   ],
   "source": [
    "print(\"[INFO] shape of ACC data is\", Xt_acc.shape)\n",
    "print(\"[INFO] shape of GYR data is\", Xt_gyr.shape)\n",
    "print(\"[INFO] shape of MAG data is\", Xt_mag.shape)\n",
    "print(\"[INFO] shape of MIC data is\", Xt_mic.shape)\n",
    "print(f\"[INFO] {Xt_gyr.shape[0]} windows with {Xt_gyr[0].shape[0]} sample each (time stamps and 3 axis gyroscope)\")\n",
    "print(f\"[INFO] {Xt_acc.shape[0]} windows with {Xt_acc[0].shape[0]} sample each (time stamps and 3 axis accelerometer)\")\n",
    "print(f\"[INFO] {Xt_mag.shape[0]} windows with {Xt_mag[0].shape[0]} sample each (time stamps and 3 axis magnetometer)\")\n",
    "print(f\"[INFO] {Xt_mic.shape[0]} windows with {Xt_mic[0].shape[0]} sample each (time stamps and 1 axis microphone)\")"
   ]
  },
  {
   "cell_type": "markdown",
   "id": "0ecda9a4",
   "metadata": {},
   "source": [
    "### 2. Remove ambiguious windows"
   ]
  },
  {
   "cell_type": "code",
   "execution_count": 9,
   "id": "81f30adf",
   "metadata": {},
   "outputs": [],
   "source": [
    "from fhgutils import one_label_per_window\n",
    "from data_preprocessing import find_ambiguous_windows,remove_windows_by_indices"
   ]
  },
  {
   "cell_type": "code",
   "execution_count": 10,
   "id": "764b3aa7",
   "metadata": {},
   "outputs": [
    {
     "name": "stdout",
     "output_type": "stream",
     "text": [
      "[ACC] Checking for ambiguous windows...\n",
      "[ACC] Found 6 ambiguous windows.\n",
      "[GYR] Checking for ambiguous windows...\n",
      "[GYR] Found 6 ambiguous windows.\n",
      "[MAG] Checking for ambiguous windows...\n",
      "[MAG] Found 46 ambiguous windows.\n",
      "[MIC] Checking for ambiguous windows...\n",
      "[MIC] Found 80 ambiguous windows.\n",
      "Number of all ambiguous window indices across 4 modalities: 103\n",
      "[INFO] Xt shape: (7162,)\n",
      "[INFO] y shape after processing: (7162, 41)\n",
      "[INFO] Xt shape: (7162,)\n",
      "[INFO] y shape after processing: (7162, 41)\n",
      "[INFO] Xt shape: (7162,)\n",
      "[INFO] y shape after processing: (7162, 62)\n",
      "[INFO] Xt shape: (7162,)\n",
      "[INFO] y shape after processing: (7162, 3200)\n"
     ]
    }
   ],
   "source": [
    "ambiguous_acc = find_ambiguous_windows(Xt_acc, Xc_acc, y_acc, name=\"ACC\")\n",
    "ambiguous_gyr = find_ambiguous_windows(Xt_gyr, Xc_gyr, y_gyr, name=\"GYR\")\n",
    "ambiguous_mag = find_ambiguous_windows(Xt_mag, Xc_mag, y_mag, name=\"MAG\")\n",
    "ambiguous_mic = find_ambiguous_windows(Xt_mic, Xc_mic, y_mic, name=\"MIC\")\n",
    "\n",
    "# Union of all ambiguous window indices - windows with no majority label\n",
    "ambiguous_indices = set(ambiguous_acc) | set(ambiguous_gyr) | set(ambiguous_mag) | set(ambiguous_mic)\n",
    "\n",
    "print(f\"Number of all ambiguous window indices across 4 modalities: {len(ambiguous_indices)}\")\n",
    "\n",
    "# To remove windows without majority label from all modalities\n",
    "Xt_acc_f, Xc_acc_f, y_acc_f = remove_windows_by_indices(Xt_acc, Xc_acc, y_acc, ambiguous_indices)\n",
    "Xt_gyr_f, Xc_gyr_f, y_gyr_f = remove_windows_by_indices(Xt_gyr, Xc_gyr, y_gyr, ambiguous_indices)\n",
    "Xt_mag_f, Xc_mag_f, y_mag_f = remove_windows_by_indices(Xt_mag, Xc_mag, y_mag, ambiguous_indices)\n",
    "Xt_mic_f, Xc_mic_f, y_mic_f = remove_windows_by_indices(Xt_mic, Xc_mic, y_mic, ambiguous_indices)\n",
    "\n",
    "# Code to print the window incase of unequal samples per window, eg: incase MIC data for pneumatic screw driver\n",
    "for k in range(len(y_mic_f)):\n",
    "    for i in y_mic_f[k]:\n",
    "        if i == -42:\n",
    "            print(k)\n"
   ]
  },
  {
   "cell_type": "markdown",
   "id": "3c784afc",
   "metadata": {},
   "source": [
    "### 3. Apply one label per window"
   ]
  },
  {
   "cell_type": "code",
   "execution_count": 11,
   "id": "c896ed68",
   "metadata": {},
   "outputs": [
    {
     "name": "stdout",
     "output_type": "stream",
     "text": [
      "Below find the number of unique labels in the data\n",
      "flattened 8 labels: [ 2  3  4  5  6  7  8 14]\n",
      "Below find the number of unique labels in the data\n",
      "flattened 8 labels: [ 2  3  4  5  6  7  8 14]\n",
      "Below find the number of unique labels in the data\n",
      "flattened 8 labels: [ 2  3  4  5  6  7  8 14]\n",
      "Below find the number of unique labels in the data\n",
      "flattened 8 labels: [ 2  3  4  5  6  7  8 14]\n",
      "-----------------------------------------------\n",
      "[ACC] Number of windows after removing ambiguous window indices: 7162\n",
      "[GYR] Number of windows after removing ambiguous window indices: 7162\n",
      "[MAG] Number of windows after removing ambiguous window indices: 7162\n",
      "[MIC] Number of windows after removing ambiguous window indices: 7162\n",
      "The number of mismatched windows before removing across 4 modalities: 21\n",
      "[INFO] Xt shape: (7141,)\n",
      "[INFO] y shape after processing: (7141,)\n",
      "[INFO] Xt shape: (7141,)\n",
      "[INFO] y shape after processing: (7141,)\n",
      "[INFO] Xt shape: (7141,)\n",
      "[INFO] y shape after processing: (7141,)\n",
      "[INFO] Xt shape: (7141,)\n",
      "[INFO] y shape after processing: (7141,)\n",
      "The number of mismatched windows after removing across 4 modalities (should be zero): 0\n",
      "-----------------------------------------------\n",
      "[ACC] Number of windows after removing mismatched window indices: 7141\n",
      "[GYR] Number of windows after removing mismatched window indices: 7141\n",
      "[MAG] Number of windows after removing mismatched window indices: 7141\n",
      "[MIC] Number of windows after removing mismatched window indices: 7141\n"
     ]
    }
   ],
   "source": [
    "y_acc_f = one_label_per_window(y_acc_f)\n",
    "y_gyr_f = one_label_per_window(y_gyr_f)\n",
    "y_mag_f = one_label_per_window(y_mag_f)\n",
    "y_mic_f = one_label_per_window(y_mic_f)\n",
    "# Print y_mic_f\n",
    "print(\"-----------------------------------------------\")\n",
    "print(f\"[ACC] Number of windows after removing ambiguous window indices: {len(y_acc_f)}\")\n",
    "print(f\"[GYR] Number of windows after removing ambiguous window indices: {len(y_gyr_f)}\")\n",
    "print(f\"[MAG] Number of windows after removing ambiguous window indices: {len(y_mag_f)}\")\n",
    "print(f\"[MIC] Number of windows after removing ambiguous window indices: {len(y_mic_f)}\")\n",
    "\n",
    "inconsistent_indices = [\n",
    "    i for i in range(len(y_acc_f))\n",
    "    if not (y_acc_f[i] == y_gyr_f[i] == y_mag_f[i] == y_mic_f[i])\n",
    "]\n",
    "print(f\"The number of mismatched windows before removing across 4 modalities: {len(inconsistent_indices)}\")\n",
    "\n",
    "Xt_acc_f, Xc_acc_f, y_acc_f = remove_windows_by_indices(Xt_acc_f, Xc_acc_f, y_acc_f, inconsistent_indices)\n",
    "Xt_gyr_f, Xc_gyr_f, y_gyr_f = remove_windows_by_indices(Xt_gyr_f, Xc_gyr_f, y_gyr_f, inconsistent_indices)\n",
    "Xt_mag_f, Xc_mag_f, y_mag_f = remove_windows_by_indices(Xt_mag_f, Xc_mag_f, y_mag_f, inconsistent_indices)\n",
    "Xt_mic_f, Xc_mic_f, y_mic_f = remove_windows_by_indices(Xt_mic_f, Xc_mic_f, y_mic_f, inconsistent_indices)\n",
    "\n",
    "inconsistent_indices = [\n",
    "    i for i in range(len(y_acc_f))\n",
    "    if not (y_acc_f[i] == y_gyr_f[i] == y_mag_f[i] == y_mic_f[i])\n",
    "]\n",
    "print(f\"The number of mismatched windows after removing across 4 modalities (should be zero): {len(inconsistent_indices)}\")\n",
    "\n",
    "print(\"-----------------------------------------------\")\n",
    "print(f\"[ACC] Number of windows after removing mismatched window indices: {len(y_acc_f)}\")\n",
    "print(f\"[GYR] Number of windows after removing mismatched window indices: {len(y_gyr_f)}\")\n",
    "print(f\"[MAG] Number of windows after removing mismatched window indices: {len(y_mag_f)}\")\n",
    "print(f\"[MIC] Number of windows after removing mismatched window indices: {len(y_mic_f)}\")\n",
    "\n"
   ]
  },
  {
   "cell_type": "code",
   "execution_count": 12,
   "id": "26a19689",
   "metadata": {},
   "outputs": [
    {
     "name": "stdout",
     "output_type": "stream",
     "text": [
      "[INFO] 7141 windows with 41 sample each (time stamps and 3 axis accelerometer)\n",
      "[INFO] 7141 windows with 41 sample each (time stamps and 3 axis gyroscope)\n",
      "[INFO] 7141 windows with 62 sample each (time stamps and 3 axis magnetometer)\n",
      "[INFO] 7141 windows with 3200 sample each (time stamps and 1 axis microphone)\n"
     ]
    }
   ],
   "source": [
    "# Verify that the number of windows and window length are consistent\n",
    "print(f\"[INFO] {Xt_acc_f.shape[0]} windows with {Xt_acc_f[0].shape[0]} sample each (time stamps and 3 axis accelerometer)\")\n",
    "print(f\"[INFO] {Xt_gyr_f.shape[0]} windows with {Xt_gyr_f[0].shape[0]} sample each (time stamps and 3 axis gyroscope)\")\n",
    "print(f\"[INFO] {Xt_mag_f.shape[0]} windows with {Xt_mag_f[0].shape[0]} sample each (time stamps and 3 axis magnetometer)\")\n",
    "print(f\"[INFO] {Xt_mic_f.shape[0]} windows with {Xt_mic_f[0].shape[0]} sample each (time stamps and 1 axis microphone)\")\n"
   ]
  },
  {
   "cell_type": "markdown",
   "id": "1b042907",
   "metadata": {},
   "source": [
    "### 4. Interpolation + Timestamp-aligned Downsampling + MFCC for audio features"
   ]
  },
  {
   "cell_type": "code",
   "execution_count": 13,
   "id": "28df11e5",
   "metadata": {},
   "outputs": [],
   "source": [
    "import numpy as np\n",
    "from scipy.interpolate import interp1d\n",
    "import librosa\n",
    "import pandas as pd\n",
    "\n",
    "combined_data = []\n",
    "combined_labels = []\n",
    "\n",
    "target_length = 41\n",
    "n_mfcc = 13  # Typical choice\n",
    "num_windows = Xt_acc_f.shape[0]  # Number of windows after filtering\n",
    "y_filtered = y_acc_f  # Assuming y_acc_f is representative of the labels\n",
    "\n",
    "for i in range(num_windows):\n",
    "    time_acc = Xt_acc_f[i][:, 0]\n",
    "    acc_values = Xt_acc_f[i][:, 1:]\n",
    "\n",
    "    time_gyr = Xt_gyr_f[i][:, 0]\n",
    "    gyr_values = Xt_gyr_f[i][:, 1:]\n",
    "\n",
    "    time_mag = Xt_mag_f[i][:, 0]\n",
    "    mag_values = Xt_mag_f[i][:, 1:]\n",
    "\n",
    "    time_mic = Xt_mic_f[i][:, 0]\n",
    "    mic_values = Xt_mic_f[i][:, 1]\n",
    "\n",
    "    reference_time = time_acc\n",
    "\n",
    "    def safe_interp(original_time, values, target_time, num_axes=1):\n",
    "        try:\n",
    "            if num_axes == 1:\n",
    "                f = interp1d(original_time, values, bounds_error=False, fill_value=\"extrapolate\")\n",
    "                return f(target_time).reshape(-1, 1)\n",
    "            else:\n",
    "                return np.stack([\n",
    "                    interp1d(original_time, values[:, j], bounds_error=False, fill_value=\"extrapolate\")(target_time)\n",
    "                    for j in range(num_axes)\n",
    "                ], axis=-1)\n",
    "        except Exception as e:\n",
    "            print(f\"[WARN] Interpolation failed at window {i}: {e}\")\n",
    "            return np.full((len(target_time), num_axes), np.nan)\n",
    "\n",
    "    acc_interp = acc_values  # already aligned\n",
    "    gyr_interp = safe_interp(time_gyr, gyr_values, reference_time, 3)\n",
    "    mag_interp = safe_interp(time_mag, mag_values, reference_time, 3)\n",
    "\n",
    "    # Process MIC to MFCC\n",
    "    try:\n",
    "        mic_signal = mic_values.astype(np.float32)\n",
    "\n",
    "        # Compute MFCC\n",
    "        sr = 16000  # or estimated sampling rate\n",
    "        hop_length = len(mic_signal) // target_length\n",
    "        mfcc = librosa.feature.mfcc(y=mic_signal, sr=sr, n_mfcc=n_mfcc, hop_length=hop_length)\n",
    "\n",
    "        mfcc = mfcc.T  # Transpose to shape (41, 13)\n",
    "        if mfcc.shape[0] < target_length:\n",
    "            # Pad if short\n",
    "            mfcc = np.pad(mfcc, ((0, target_length - mfcc.shape[0]), (0, 0)), mode='constant')\n",
    "        elif mfcc.shape[0] > target_length:\n",
    "            mfcc = mfcc[:target_length]\n",
    "    except Exception as e:\n",
    "        print(f\"[WARN] MFCC extraction failed at window {i}: {e}\")\n",
    "        mfcc = np.zeros((target_length, n_mfcc))\n",
    "\n",
    "    # Combine all\n",
    "    aligned = np.concatenate([acc_interp, gyr_interp, mag_interp, mfcc], axis=1)  # shape: (41, 22)\n",
    "    combined_data.append(aligned)\n",
    "    combined_labels.append(y_filtered[i])\n",
    "\n",
    "combined_data = np.array(combined_data)  # shape: (7141, 41, 22)\n",
    "combined_labels = np.array(combined_labels)\n"
   ]
  },
  {
   "cell_type": "code",
   "execution_count": 14,
   "id": "016b374d",
   "metadata": {},
   "outputs": [
    {
     "data": {
      "image/png": "[encoded data removed]",
      "text/plain": [
       "<Figure size 1200x600 with 1 Axes>"
      ]
     },
     "metadata": {},
     "output_type": "display_data"
    }
   ],
   "source": [
    "import matplotlib.pyplot as plt\n",
    "\n",
    "# Use dynamic label mapping from data_dict\n",
    "label_names = data_dict[\"01\"][\"classes\"]\n",
    "\n",
    "# Get unique labels and their counts\n",
    "unique_labels, counts = np.unique(y_mic_f, return_counts=True)\n",
    "\n",
    "# Plotting\n",
    "plt.figure(figsize=(12, 6))\n",
    "bars = plt.bar(unique_labels, counts, color='skyblue', edgecolor='black')\n",
    "\n",
    "# Add annotations (counts) above each bar\n",
    "for bar, count in zip(bars, counts):\n",
    "    height = bar.get_height()\n",
    "    plt.text(bar.get_x() + bar.get_width() / 2, height + 10, str(count), \n",
    "             ha='center', va='bottom', fontsize=10)\n",
    "\n",
    "plt.xlabel('Labels')\n",
    "plt.ylabel('Number of windows')\n",
    "plt.title(f'Label distribution for {mytool} data')\n",
    "plt.xticks(unique_labels)\n",
    "\n",
    "# Dynamically create legend entries from label_names\n",
    "legend_entries = [f\"{k}: {v}\" for k, v in label_names.items()]\n",
    "legend_text = '\\n'.join(legend_entries)\n",
    "\n",
    "# Add legend box with class descriptions\n",
    "plt.gca().legend([legend_text], loc='upper right', frameon=True, fontsize=10)\n",
    "\n",
    "plt.grid(axis='y', linestyle='--', alpha=0.7)\n",
    "plt.tight_layout()\n",
    "plt.show()\n"
   ]
  },
  {
   "cell_type": "markdown",
   "id": "1c4113ce",
   "metadata": {},
   "source": [
    "### 5. Save the features and labels"
   ]
  },
  {
   "cell_type": "code",
   "execution_count": 15,
   "id": "c6d310bd",
   "metadata": {},
   "outputs": [
    {
     "name": "stdout",
     "output_type": "stream",
     "text": [
      "combined_data shape: (7141, 41, 22)\n",
      "combined_labels shape: (7141,)\n",
      "Example data shape: (41, 22)\n",
      "Example label: 8\n",
      "[INFO] Data processing complete. Train and test sets saved.\n",
      "Train set shapes: (1400, 41, 22) (1400,)\n",
      "Test set shapes: (350, 41, 22) (350,)\n",
      "[INFO] Processed data saved in: ./processed_data/\n"
     ]
    }
   ],
   "source": [
    "# Verify the shapes \n",
    "\n",
    "print(\"combined_data shape:\", combined_data.shape)  # Should be (7141, 41, 22)\n",
    "print(\"combined_labels shape:\", combined_labels.shape)  # Should be (7141,)\n",
    "print(\"Example data shape:\", combined_data[0].shape)  # Should be (41, 22)\n",
    "print(\"Example label:\", combined_labels[0])  # Should be a single label\n",
    "\n",
    "# Save the combined data and labels into train and test sets\n",
    "import numpy as np\n",
    "import os\n",
    "output_dir = \"./processed_data/\"\n",
    "os.makedirs(output_dir, exist_ok=True)\n",
    "\n",
    "if mytool == \"electric_screwdriver\":\n",
    "    label_info = {\n",
    "        2: 'tightening',\n",
    "        3: 'untightening',\n",
    "        4: 'motor_activity_cw',\n",
    "        5: 'motor_activity_ccw',\n",
    "        6: 'manual_motor_rotation',\n",
    "        7: 'shaking',\n",
    "        14: 'tightening_double'\n",
    "    }\n",
    "elif mytool == \"pneumatic_screwdriver\":\n",
    "    label_info = {\n",
    "        2: 'tightening',\n",
    "        3: 'untightening',\n",
    "        4: 'motor_activity_cw',\n",
    "        5: 'motor_activity_ccw',\n",
    "        7: 'shaking',\n",
    "        14: 'tightening_double',\n",
    "        38: 'impact'\n",
    "    }\n",
    "\n",
    "\n",
    "# Filter out invalid labels\n",
    "valid_labels = list(label_info.keys())\n",
    "valid_indices = np.isin(combined_labels, valid_labels)\n",
    "X = combined_data[valid_indices]\n",
    "y = combined_labels[valid_indices]\n",
    "\n",
    "\n",
    "# train-test split\n",
    "from sklearn.model_selection import train_test_split\n",
    "X_train, X_test, y_train, y_test = train_test_split(X, y, test_size=0.2, random_state=42)\n",
    "# Save the train and test sets\n",
    "np.save(os.path.join(output_dir, f\"combined_data_train_{mytool}.npy\"), X_train)\n",
    "np.save(os.path.join(output_dir, f\"combined_label_train_{mytool}.npy\"), y_train)\n",
    "np.save(os.path.join(output_dir, f\"combined_data_test_{mytool}.npy\"), X_test)\n",
    "np.save(os.path.join(output_dir, f\"combined_label_test_{mytool}.npy\"), y_test)\n",
    "\n",
    "print(\"[INFO] Data processing complete. Train and test sets saved.\")\n",
    "print(\"Train set shapes:\", X_train.shape, y_train.shape)\n",
    "print(\"Test set shapes:\", X_test.shape, y_test.shape)\n",
    "print(\"[INFO] Processed data saved in:\", output_dir)"
   ]
  }
 ],
 "metadata": {
  "kernelspec": {
   "display_name": "tool-tracking_env",
   "language": "python",
   "name": "python3"
  },
  "language_info": {
   "codemirror_mode": {
    "name": "ipython",
    "version": 3
   },
   "file_extension": ".py",
   "mimetype": "text/x-python",
   "name": "python",
   "nbconvert_exporter": "python",
   "pygments_lexer": "ipython3",
   "version": "3.12.9"
  }
 },
 "nbformat": 4,
 "nbformat_minor": 5
}
