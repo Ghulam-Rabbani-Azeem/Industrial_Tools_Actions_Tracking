{
 "cells": [
  {
   "cell_type": "markdown",
   "metadata": {},
   "source": [
    "# How to load the Data\n",
    "\n",
    "Software setup:\n",
    "\n",
    "```bash\n",
    "conda create --name tool-tracking_env python=3.12\n",
    "conda activate tool-tracking_env\n",
    "pip install -r requirements.txt\n",
    "jupyter notebook\n",
    "```"
   ]
  },
  {
   "cell_type": "markdown",
   "metadata": {},
   "source": [
    "## 0. Structure of Tool Tracking Data"
   ]
  },
  {
   "cell_type": "markdown",
   "metadata": {},
   "source": [
    "You have one dedicated folder for each __(hand) tool__. On the next level are folders for each __measurement campaign__. The undermost level contains all __measurements__ of the corresponding measurement campaign.\n",
    "\n",
    "The preferred way to access the data for analysis and learning is using the `data-tools` package which is part of this repository.\n",
    "\n",
    "![data_structure](./info/structure_scheme.jpg)"
   ]
  },
  {
   "cell_type": "markdown",
   "metadata": {},
   "source": [
    "## 1. Load Data with `data-tools`\n",
    "\n",
    "First we have to connect to our downloaded data using the main class:"
   ]
  },
  {
   "cell_type": "code",
   "execution_count": 1,
   "metadata": {},
   "outputs": [],
   "source": [
    "from pathlib import Path\n",
    "from datatools.fixture import setup_dummy_data\n",
    "# test_tool\n",
    "# source = setup_dummy_data(5)\n",
    "\n",
    "# put data into this source folder\n",
    "source = \"./tool-tracking-data/\""
   ]
  },
  {
   "cell_type": "code",
   "execution_count": 2,
   "metadata": {
    "scrolled": true
   },
   "outputs": [],
   "source": [
    "from datatools import MeasurementDataReader, Measurement, MeasurementSeries, Action\n",
    "mdr = MeasurementDataReader(source=source)"
   ]
  },
  {
   "cell_type": "markdown",
   "metadata": {},
   "source": [
    "### 1.1 Create a Query to load _Measurements_ or _Actions_\n",
    "\n",
    "Using the `mdr` object we can create a `Query` object to formulate a query to the data source."
   ]
  },
  {
   "cell_type": "code",
   "execution_count": 3,
   "metadata": {},
   "outputs": [],
   "source": [
    "q = mdr.query(query_type=Measurement)"
   ]
  },
  {
   "cell_type": "markdown",
   "metadata": {},
   "source": [
    "Depending on the use case you can query for _Measurements_ which represents a temporal contiguous time series with inhomogeneous labels or _Actions_ which are parts of _Measurements_ but have the same label throughout their time range:\n",
    "\n",
    "```python\n",
    "from datatools import Action\n",
    "q = mdr.query(query_type=Action)\n",
    "```"
   ]
  },
  {
   "cell_type": "markdown",
   "metadata": {},
   "source": [
    "### 1.2 Narrow a Query to load _Measurements_ of interest"
   ]
  },
  {
   "cell_type": "code",
   "execution_count": 4,
   "metadata": {},
   "outputs": [
    {
     "name": "stdout",
     "output_type": "stream",
     "text": [
      "[INFO] Preparing data from:\n",
      "  tool-tracking-data\\electric_screwdriver\\pythagoras-10-20200716\n",
      "  tool-tracking-data\\electric_screwdriver\\pythagoras-10-20200716\n",
      "  tool-tracking-data\\electric_screwdriver\\pythagoras-10-20200716\n",
      "  tool-tracking-data\\electric_screwdriver\\pythagoras-10-20200716\n"
     ]
    },
    {
     "name": "stderr",
     "output_type": "stream",
     "text": [
      "[INFO] Read data:  12%|█▎        | 2/16 [00:00<00:01, 13.95it/s, file=ACC-02-102.291.csv]"
     ]
    },
    {
     "name": "stdout",
     "output_type": "stream",
     "text": [
      "[WARN] The mean sampling rate from the filename (tool-tracking-data\\electric_screwdriver\\pythagoras-10-20200716\\ACC-01-102.291.csv) and from the timestamps differ by 0.001Hz\n",
      "\n",
      "[WARN] The mean sampling rate from the filename (tool-tracking-data\\electric_screwdriver\\pythagoras-10-20200716\\ACC-02-102.291.csv) and from the timestamps differ by 0.001Hz\n",
      "\n"
     ]
    },
    {
     "name": "stderr",
     "output_type": "stream",
     "text": [
      "[INFO] Read data:  25%|██▌       | 4/16 [00:00<00:00, 15.00it/s, file=ACC-04-102.291.csv]"
     ]
    },
    {
     "name": "stdout",
     "output_type": "stream",
     "text": [
      "[WARN] The mean sampling rate from the filename (tool-tracking-data\\electric_screwdriver\\pythagoras-10-20200716\\ACC-03-102.291.csv) and from the timestamps differ by 0.001Hz\n",
      "\n",
      "[WARN] The mean sampling rate from the filename (tool-tracking-data\\electric_screwdriver\\pythagoras-10-20200716\\ACC-04-102.291.csv) and from the timestamps differ by 0.001Hz\n",
      "\n"
     ]
    },
    {
     "name": "stderr",
     "output_type": "stream",
     "text": [
      "[INFO] Read annotation: 100%|██████████| 16/16 [00:00<00:00, 42.31it/s, file=data-04.annotation]"
     ]
    },
    {
     "name": "stdout",
     "output_type": "stream",
     "text": [
      "[INFO] Finished with 4 measurement(s).\n"
     ]
    },
    {
     "name": "stderr",
     "output_type": "stream",
     "text": [
      "\n"
     ]
    }
   ],
   "source": [
    "from datatools import Tool, Config, MeasurementSeries, Measurement, DataTypes, Action\n",
    "from datatools import ACC, GYR, MAG, MIC, POS, VEL\n",
    "\n",
    "mytool = \"electric_screwdriver\"\n",
    "#mytool = \"pneumatic_screwdriver\"\n",
    "#mytool = \"pneumatic_rivet_gun\"\n",
    "#mytool = \"test_tool\"\n",
    "\n",
    "data_dict = q.filter_by(Tool == mytool, DataTypes == ACC).get()"
   ]
  },
  {
   "cell_type": "code",
   "execution_count": 5,
   "metadata": {},
   "outputs": [
    {
     "data": {
      "text/plain": [
       "dict_keys(['01', '02', '03', '04'])"
      ]
     },
     "execution_count": 5,
     "metadata": {},
     "output_type": "execute_result"
    }
   ],
   "source": [
    "data_dict.keys()  # we have loaded five measurements "
   ]
  },
  {
   "cell_type": "code",
   "execution_count": 6,
   "metadata": {},
   "outputs": [
    {
     "data": {
      "text/plain": [
       "datatools.data.DataBunch"
      ]
     },
     "execution_count": 6,
     "metadata": {},
     "output_type": "execute_result"
    }
   ],
   "source": [
    "data_bunch = data_dict[\"01\"] # data bunch for measurement with measurement id \"01\"\n",
    "type(data_bunch)  "
   ]
  },
  {
   "cell_type": "markdown",
   "metadata": {},
   "source": [
    "### 1.3 Interaction with the `DataBunch` class\n",
    "\n",
    "A DataBunch object is a dictionary-like object that exposes its keys as attributes. Access the data with `data_bunch.acc` or `data_bunch['audio']`. You can inspect which data is contained with:"
   ]
  },
  {
   "cell_type": "code",
   "execution_count": 7,
   "metadata": {},
   "outputs": [
    {
     "data": {
      "text/plain": [
       "['acc']"
      ]
     },
     "execution_count": 7,
     "metadata": {},
     "output_type": "execute_result"
    }
   ],
   "source": [
    "data_bunch.data_keys()"
   ]
  },
  {
   "cell_type": "code",
   "execution_count": 8,
   "metadata": {},
   "outputs": [
    {
     "data": {
      "text/plain": [
       "['acceleration x-axis [m/s^2]',\n",
       " 'acceleration y-axis [m/s^2]',\n",
       " 'acceleration z-axis [m/s^2]']"
      ]
     },
     "execution_count": 8,
     "metadata": {},
     "output_type": "execute_result"
    }
   ],
   "source": [
    "data_bunch.acc.features"
   ]
  },
  {
   "cell_type": "code",
   "execution_count": 9,
   "metadata": {},
   "outputs": [],
   "source": [
    "# matrix with raw sensor data with time column\n",
    "Xt = data_bunch.acc.ts # numpy array\n",
    "\n",
    "# matrix with raw sensor data (without time column)\n",
    "X = data_bunch.acc.X  # numpy array\n",
    "\n",
    "# target vector\n",
    "y = data_bunch.acc.y  # numpy array"
   ]
  },
  {
   "cell_type": "code",
   "execution_count": 10,
   "metadata": {},
   "outputs": [
    {
     "name": "stdout",
     "output_type": "stream",
     "text": [
      "shape of Xt:  (41775, 4)\n",
      "shape of X:  (41775, 3)\n",
      "shape of y:  (41775,)\n",
      "[ 1.59422628e+09 -5.87737800e+00  1.32205100e+00  8.61249100e+00]\n",
      "[-5.877378  1.322051  8.612491]\n",
      "8.0\n"
     ]
    }
   ],
   "source": [
    "print(\"shape of Xt: \", Xt.shape) # timestamp,x,y,z axis values\n",
    "print(\"shape of X: \", X.shape) # x,y,z axis values\n",
    "print(\"shape of y: \", y.shape) # numeric label\n",
    "\n",
    "print(Xt[0])\n",
    "print(X[0])\n",
    "print(y[0])"
   ]
  },
  {
   "cell_type": "markdown",
   "metadata": {},
   "source": [
    "### 1.4 Narrow a Query to load _Actions_ of interest"
   ]
  },
  {
   "cell_type": "code",
   "execution_count": 11,
   "metadata": {},
   "outputs": [
    {
     "name": "stdout",
     "output_type": "stream",
     "text": [
      "[INFO] Preparing data from:\n",
      "  tool-tracking-data\\electric_screwdriver\\pythagoras-10-20200716\n",
      "  tool-tracking-data\\electric_screwdriver\\pythagoras-10-20200716\n",
      "  tool-tracking-data\\electric_screwdriver\\pythagoras-10-20200716\n",
      "  tool-tracking-data\\electric_screwdriver\\pythagoras-10-20200716\n"
     ]
    },
    {
     "name": "stderr",
     "output_type": "stream",
     "text": [
      "[INFO] Read data:  12%|█▎        | 2/16 [00:00<00:00, 14.85it/s, file=ACC-02-102.291.csv]"
     ]
    },
    {
     "name": "stdout",
     "output_type": "stream",
     "text": [
      "[WARN] The mean sampling rate from the filename (tool-tracking-data\\electric_screwdriver\\pythagoras-10-20200716\\ACC-01-102.291.csv) and from the timestamps differ by 0.001Hz\n",
      "\n",
      "[WARN] The mean sampling rate from the filename (tool-tracking-data\\electric_screwdriver\\pythagoras-10-20200716\\ACC-02-102.291.csv) and from the timestamps differ by 0.001Hz\n",
      "\n",
      "[WARN] The mean sampling rate from the filename (tool-tracking-data\\electric_screwdriver\\pythagoras-10-20200716\\ACC-03-102.291.csv) and from the timestamps differ by 0.001Hz\n",
      "\n"
     ]
    },
    {
     "name": "stderr",
     "output_type": "stream",
     "text": [
      "[INFO] Read data:  31%|███▏      | 5/16 [00:00<00:00, 18.24it/s, file=GYR-01-102.291.csv]"
     ]
    },
    {
     "name": "stdout",
     "output_type": "stream",
     "text": [
      "[WARN] The mean sampling rate from the filename (tool-tracking-data\\electric_screwdriver\\pythagoras-10-20200716\\ACC-04-102.291.csv) and from the timestamps differ by 0.001Hz\n",
      "\n",
      "[WARN] The mean sampling rate from the filename (tool-tracking-data\\electric_screwdriver\\pythagoras-10-20200716\\GYR-01-102.291.csv) and from the timestamps differ by 0.001Hz\n",
      "\n"
     ]
    },
    {
     "name": "stderr",
     "output_type": "stream",
     "text": [
      "[INFO] Read data:  44%|████▍     | 7/16 [00:00<00:00, 17.23it/s, file=GYR-03-102.291.csv]"
     ]
    },
    {
     "name": "stdout",
     "output_type": "stream",
     "text": [
      "[WARN] The mean sampling rate from the filename (tool-tracking-data\\electric_screwdriver\\pythagoras-10-20200716\\GYR-02-102.291.csv) and from the timestamps differ by 0.001Hz\n",
      "\n",
      "[WARN] The mean sampling rate from the filename (tool-tracking-data\\electric_screwdriver\\pythagoras-10-20200716\\GYR-03-102.291.csv) and from the timestamps differ by 0.001Hz\n",
      "\n"
     ]
    },
    {
     "name": "stderr",
     "output_type": "stream",
     "text": [
      "[INFO] Read data:  56%|█████▋    | 9/16 [00:00<00:00, 17.43it/s, file=MAG-01-155.087.csv]"
     ]
    },
    {
     "name": "stdout",
     "output_type": "stream",
     "text": [
      "[WARN] The mean sampling rate from the filename (tool-tracking-data\\electric_screwdriver\\pythagoras-10-20200716\\GYR-04-102.291.csv) and from the timestamps differ by 0.001Hz\n",
      "\n",
      "[WARN] The mean sampling rate from the filename (tool-tracking-data\\electric_screwdriver\\pythagoras-10-20200716\\MAG-01-155.087.csv) and from the timestamps differ by 0.001Hz\n",
      "\n",
      "[WARN] The mean sampling rate from the filename (tool-tracking-data\\electric_screwdriver\\pythagoras-10-20200716\\MAG-02-154.679.csv) and from the timestamps differ by 0.001Hz\n",
      "\n"
     ]
    },
    {
     "name": "stderr",
     "output_type": "stream",
     "text": [
      "[INFO] Read data:  69%|██████▉   | 11/16 [00:00<00:00, 14.88it/s, file=MAG-03-154.871.csv]"
     ]
    },
    {
     "name": "stdout",
     "output_type": "stream",
     "text": [
      "[WARN] The mean sampling rate from the filename (tool-tracking-data\\electric_screwdriver\\pythagoras-10-20200716\\MAG-03-154.871.csv) and from the timestamps differ by 0.002Hz\n",
      "\n",
      "[WARN] The mean sampling rate from the filename (tool-tracking-data\\electric_screwdriver\\pythagoras-10-20200716\\MAG-04-154.967.csv) and from the timestamps differ by 0.001Hz\n",
      "\n"
     ]
    },
    {
     "name": "stderr",
     "output_type": "stream",
     "text": [
      "[INFO] Read annotation: 100%|██████████| 16/16 [00:04<00:00,  3.35it/s, file=data-04.annotation]\n"
     ]
    },
    {
     "name": "stdout",
     "output_type": "stream",
     "text": [
      "[INFO] Finished with 79 action(s).\n"
     ]
    }
   ],
   "source": [
    "data_dict = mdr.query(query_type=Action).filter_by(Action == \"tightening\", Tool == mytool).get()"
   ]
  },
  {
   "cell_type": "code",
   "execution_count": 12,
   "metadata": {},
   "outputs": [
    {
     "data": {
      "text/plain": [
       "dict_keys(['tightening'])"
      ]
     },
     "execution_count": 12,
     "metadata": {},
     "output_type": "execute_result"
    }
   ],
   "source": [
    "data_dict.keys()  # the data is now grouped by actions"
   ]
  },
  {
   "cell_type": "code",
   "execution_count": 13,
   "metadata": {},
   "outputs": [
    {
     "name": "stdout",
     "output_type": "stream",
     "text": [
      "<class 'list'> of <class 'datatools.data.DataBunch'>\n",
      "{2: 'tightening'}\n"
     ]
    },
    {
     "data": {
      "text/plain": [
       "{'acc':           time [s]  acceleration x-axis [m/s^2]  acceleration y-axis [m/s^2]  \\\n",
       " 5254  1.594226e+09                    -0.164117                    -0.838661   \n",
       " 5255  1.594226e+09                    -0.295868                     0.436615   \n",
       " 5256  1.594226e+09                    -0.021070                     0.658845   \n",
       " 5257  1.594226e+09                     0.625163                     0.496968   \n",
       " 5258  1.594226e+09                     1.231298                     0.178809   \n",
       " ...            ...                          ...                          ...   \n",
       " 5506  1.594226e+09                   -14.145749                    -7.317925   \n",
       " 5507  1.594226e+09                   -10.613349                   -15.459874   \n",
       " 5508  1.594226e+09                    -5.466820                   -10.372306   \n",
       " 5509  1.594226e+09                     2.025146                   -10.313171   \n",
       " 5510  1.594226e+09                     0.130272                    -8.867621   \n",
       " \n",
       "       acceleration z-axis [m/s^2]  label  \n",
       " 5254                     9.430702    2.0  \n",
       " 5255                     9.584547    2.0  \n",
       " 5256                    10.598882    2.0  \n",
       " 5257                     9.961841    2.0  \n",
       " 5258                    10.120650    2.0  \n",
       " ...                           ...    ...  \n",
       " 5506                    27.529857    2.0  \n",
       " 5507                    12.271865    2.0  \n",
       " 5508                     9.430984    2.0  \n",
       " 5509                     6.945003    2.0  \n",
       " 5510                    11.549097    2.0  \n",
       " \n",
       " [257 rows x 5 columns],\n",
       " 'gyr':           time [s]  angular rate x-axis [rad/s]  angular rate y-axis [rad/s]  \\\n",
       " 5254  1.594226e+09                    -0.063102                    -0.005558   \n",
       " 5255  1.594226e+09                    -0.060224                    -0.011853   \n",
       " 5256  1.594226e+09                    -0.056147                    -0.008890   \n",
       " 5257  1.594226e+09                    -0.059535                    -0.007397   \n",
       " 5258  1.594226e+09                    -0.026818                     0.009415   \n",
       " ...            ...                          ...                          ...   \n",
       " 5506  1.594226e+09                    -2.301872                    -0.019722   \n",
       " 5507  1.594226e+09                    -1.758142                    -0.063409   \n",
       " 5508  1.594226e+09                    -1.225784                    -0.213951   \n",
       " 5509  1.594226e+09                    -0.797831                    -0.310069   \n",
       " 5510  1.594226e+09                    -0.495062                    -0.225693   \n",
       " \n",
       "       angular rate z-axis [rad/s]  label  \n",
       " 5254                    -0.106440    2.0  \n",
       " 5255                    -0.105987    2.0  \n",
       " 5256                    -0.134971    2.0  \n",
       " 5257                    -0.143704    2.0  \n",
       " 5258                    -0.141164    2.0  \n",
       " ...                           ...    ...  \n",
       " 5506                    -0.501868    2.0  \n",
       " 5507                     0.021301    2.0  \n",
       " 5508                     0.334985    2.0  \n",
       " 5509                     0.586955    2.0  \n",
       " 5510                     0.698031    2.0  \n",
       " \n",
       " [257 rows x 5 columns],\n",
       " 'mag':           time [s]  magnetic field x-axis [T]  magnetic field y-axis [T]  \\\n",
       " 7965  1.594226e+09                   0.000233                  -0.000106   \n",
       " 7966  1.594226e+09                   0.000179                  -0.000289   \n",
       " 7967  1.594226e+09                  -0.000054                  -0.000031   \n",
       " 7968  1.594226e+09                   0.000031                   0.000005   \n",
       " 7969  1.594226e+09                  -0.000029                   0.000142   \n",
       " ...            ...                        ...                        ...   \n",
       " 8351  1.594226e+09                   0.000021                  -0.000397   \n",
       " 8352  1.594226e+09                   0.000073                  -0.000393   \n",
       " 8353  1.594226e+09                   0.000083                  -0.000379   \n",
       " 8354  1.594226e+09                   0.000117                  -0.000366   \n",
       " 8355  1.594226e+09                   0.000153                  -0.000346   \n",
       " \n",
       "       magnetic field z-axis [T]  label  \n",
       " 7965                  -0.000547    2.0  \n",
       " 7966                  -0.000080    2.0  \n",
       " 7967                   0.000012    2.0  \n",
       " 7968                  -0.000043    2.0  \n",
       " 7969                  -0.000270    2.0  \n",
       " ...                         ...    ...  \n",
       " 8351                  -0.000147    2.0  \n",
       " 8352                  -0.000208    2.0  \n",
       " 8353                  -0.000269    2.0  \n",
       " 8354                  -0.000321    2.0  \n",
       " 8355                  -0.000367    2.0  \n",
       " \n",
       " [391 rows x 5 columns],\n",
       " 'mic':             time [s]  amplitude  label\n",
       " 410880  1.594226e+09         10    2.0\n",
       " 410881  1.594226e+09         -2    2.0\n",
       " 410882  1.594226e+09        -20    2.0\n",
       " 410883  1.594226e+09        -25    2.0\n",
       " 410884  1.594226e+09        -13    2.0\n",
       " ...              ...        ...    ...\n",
       " 431035  1.594226e+09       3455    2.0\n",
       " 431036  1.594226e+09       4821    2.0\n",
       " 431037  1.594226e+09       3120    2.0\n",
       " 431038  1.594226e+09       1686    2.0\n",
       " 431039  1.594226e+09       1230    2.0\n",
       " \n",
       " [20160 rows x 3 columns],\n",
       " 'classes': {2: 'tightening'}}"
      ]
     },
     "metadata": {},
     "output_type": "display_data"
    }
   ],
   "source": [
    "data_bunches = data_dict[\"tightening\"]\n",
    "print(f\"{type(data_bunches)} of {type(data_bunches[0])}\")\n",
    "print(data_bunches[0][\"classes\"])\n",
    "display(data_bunches[4])"
   ]
  },
  {
   "cell_type": "markdown",
   "metadata": {},
   "source": [
    "## 2. Create windowed Time-Series"
   ]
  },
  {
   "cell_type": "code",
   "execution_count": 14,
   "metadata": {},
   "outputs": [],
   "source": [
    "import numpy as np\n",
    "from seglearn.base import TS_Data\n",
    "from seglearn.pipe import Pype\n",
    "from fhgutils import Segment, contextual_recarray_dtype, filter_ts_data\n",
    "from datatools import to_ts_data"
   ]
  },
  {
   "cell_type": "markdown",
   "metadata": {},
   "source": [
    "> Note: `to_ts_data` can deal with the output when querying _Measurements_ as well as _Actions_\n",
    "\n",
    "Have a look on the seglearn [user guide](https://dmbee.github.io/seglearn/user_guide.html) to understand the data representation with `Xt` and `Xc`."
   ]
  },
  {
   "cell_type": "code",
   "execution_count": 15,
   "metadata": {},
   "outputs": [
    {
     "name": "stdout",
     "output_type": "stream",
     "text": [
      "[INFO] Preparing data from:\n",
      "  tool-tracking-data\\electric_screwdriver\\pythagoras-10-20200716\n",
      "  tool-tracking-data\\electric_screwdriver\\pythagoras-10-20200716\n",
      "  tool-tracking-data\\electric_screwdriver\\pythagoras-10-20200716\n",
      "  tool-tracking-data\\electric_screwdriver\\pythagoras-10-20200716\n"
     ]
    },
    {
     "name": "stderr",
     "output_type": "stream",
     "text": [
      "[INFO] Read data:  25%|██▌       | 4/16 [00:00<00:00, 32.34it/s, file=ACC-04-102.291.csv]"
     ]
    },
    {
     "name": "stdout",
     "output_type": "stream",
     "text": [
      "[WARN] The mean sampling rate from the filename (tool-tracking-data\\electric_screwdriver\\pythagoras-10-20200716\\ACC-01-102.291.csv) and from the timestamps differ by 0.001Hz\n",
      "\n",
      "[WARN] The mean sampling rate from the filename (tool-tracking-data\\electric_screwdriver\\pythagoras-10-20200716\\ACC-02-102.291.csv) and from the timestamps differ by 0.001Hz\n",
      "\n",
      "[WARN] The mean sampling rate from the filename (tool-tracking-data\\electric_screwdriver\\pythagoras-10-20200716\\ACC-03-102.291.csv) and from the timestamps differ by 0.001Hz\n",
      "\n",
      "[WARN] The mean sampling rate from the filename (tool-tracking-data\\electric_screwdriver\\pythagoras-10-20200716\\ACC-04-102.291.csv) and from the timestamps differ by 0.001Hz\n",
      "\n",
      "[WARN] The mean sampling rate from the filename (tool-tracking-data\\electric_screwdriver\\pythagoras-10-20200716\\GYR-01-102.291.csv) and from the timestamps differ by 0.001Hz\n",
      "\n",
      "[WARN] The mean sampling rate from the filename (tool-tracking-data\\electric_screwdriver\\pythagoras-10-20200716\\GYR-02-102.291.csv) and from the timestamps differ by 0.001Hz\n",
      "\n",
      "[WARN] The mean sampling rate from the filename (tool-tracking-data\\electric_screwdriver\\pythagoras-10-20200716\\GYR-03-102.291.csv) and from the timestamps differ by 0.001Hz\n"
     ]
    },
    {
     "name": "stderr",
     "output_type": "stream",
     "text": [
      "[INFO] Read data:  50%|█████     | 8/16 [00:00<00:00, 30.88it/s, file=GYR-04-102.291.csv]"
     ]
    },
    {
     "name": "stdout",
     "output_type": "stream",
     "text": [
      "\n",
      "[WARN] The mean sampling rate from the filename (tool-tracking-data\\electric_screwdriver\\pythagoras-10-20200716\\GYR-04-102.291.csv) and from the timestamps differ by 0.001Hz\n",
      "\n",
      "[WARN] The mean sampling rate from the filename (tool-tracking-data\\electric_screwdriver\\pythagoras-10-20200716\\MAG-01-155.087.csv) and from the timestamps differ by 0.001Hz\n",
      "\n",
      "[WARN] The mean sampling rate from the filename (tool-tracking-data\\electric_screwdriver\\pythagoras-10-20200716\\MAG-02-154.679.csv) and from the timestamps differ by 0.001Hz\n",
      "\n",
      "[WARN] The mean sampling rate from the filename (tool-tracking-data\\electric_screwdriver\\pythagoras-10-20200716\\MAG-03-154.871.csv) and from the timestamps differ by 0.002Hz\n",
      "\n"
     ]
    },
    {
     "name": "stderr",
     "output_type": "stream",
     "text": [
      "[INFO] Read data:  75%|███████▌  | 12/16 [00:00<00:00, 24.84it/s, file=MAG-04-154.967.csv]"
     ]
    },
    {
     "name": "stdout",
     "output_type": "stream",
     "text": [
      "[WARN] The mean sampling rate from the filename (tool-tracking-data\\electric_screwdriver\\pythagoras-10-20200716\\MAG-04-154.967.csv) and from the timestamps differ by 0.001Hz\n",
      "\n"
     ]
    },
    {
     "name": "stderr",
     "output_type": "stream",
     "text": [
      "[INFO] Read annotation: 100%|██████████| 16/16 [00:03<00:00,  4.32it/s, file=data-04.annotation]\n"
     ]
    },
    {
     "name": "stdout",
     "output_type": "stream",
     "text": [
      "[INFO] Finished with 4 measurement(s).\n",
      "[INFO] segment ['acc' 'gyr' 'mag' 'mic'] together\n",
      "[INFO] segment ['acc' 'gyr' 'mag' 'mic'] together\n",
      "[INFO] segment ['acc' 'gyr' 'mag' 'mic'] together\n",
      "[INFO] segment ['acc' 'gyr' 'mag' 'mic'] together\n",
      "Segment: 100%|██████████| 29060/29060 [00:00<00:00, 31026.34it/s]\n",
      "[29060]\n"
     ]
    }
   ],
   "source": [
    "window_length=0.4 # unit in s\n",
    "overlap = 0.5 # unit in percent\n",
    "\n",
    "# clean and window data\n",
    "data_dict = mdr.query().filter_by(Tool == mytool).get()\n",
    "Xt, Xc, y = to_ts_data(data_dict, contextual_recarray_dtype)\n",
    "\n",
    "X = TS_Data(Xt, Xc)\n",
    "pipe = Pype([\n",
    "    ('segment', Segment(window_length=window_length, overlap=overlap, enforce_size=True, n=len(np.unique(Xc.desc))))\n",
    "])\n",
    "\n",
    "X_trans, y_trans = pipe.fit_transform(X, y)\n",
    "print(X_trans.shape)"
   ]
  },
  {
   "cell_type": "markdown",
   "metadata": {},
   "source": [
    "### 2.1 Filter windowed Data"
   ]
  },
  {
   "cell_type": "code",
   "execution_count": 16,
   "metadata": {},
   "outputs": [
    {
     "name": "stdout",
     "output_type": "stream",
     "text": [
      "[INFO] extract segmented ACC data\n",
      "[INFO] extract segmented GYR data\n",
      "[INFO] extract segmented MAG data\n",
      "[INFO] extract segmented MIC data\n",
      "<class 'numpy.rec.recarray'>\n",
      "('cls', 'sr', 'id', 'desc', 'height')\n"
     ]
    }
   ],
   "source": [
    "print(\"[INFO] extract segmented ACC data\")\n",
    "Xt_acc, Xc_acc, y_acc = filter_ts_data(X_trans, y_trans, filt={'desc': ['acc']})\n",
    "\n",
    "print(\"[INFO] extract segmented GYR data\")\n",
    "Xt_gyr, Xc_gyr, y_gyr = filter_ts_data(X_trans, y_trans, filt={'desc': ['gyr']})\n",
    "\n",
    "print(\"[INFO] extract segmented MAG data\")\n",
    "Xt_mag, Xc_mag, y_mag = filter_ts_data(X_trans, y_trans, filt={'desc': ['mag']})\n",
    "\n",
    "print(\"[INFO] extract segmented MIC data\")\n",
    "Xt_mic, Xc_mic, y_mic = filter_ts_data(X_trans, y_trans, filt={'desc': ['mic']})\n",
    "print(type(Xc_acc))\n",
    "rec = Xc_acc.view(np.recarray)\n",
    "print(rec.dtype.names)"
   ]
  },
  {
   "cell_type": "code",
   "execution_count": 17,
   "metadata": {},
   "outputs": [
    {
     "name": "stdout",
     "output_type": "stream",
     "text": [
      "[INFO] shape of ACC data is (7265,)\n",
      "[INFO] 7265 windows with 41 samples each with 4 features per sample (including timestamp if present)\n",
      "Number of samples per window based on sampling rate - 40.92\n",
      "\n",
      "\n",
      "[INFO] shape of GYR data is (7265,)\n",
      "[INFO] 7265 windows with 41 samples each with 4 features per sample (including timestamp if present)\n",
      "Number of samples per window based on sampling rate - 40.92\n",
      "\n",
      "\n",
      "[INFO] shape of MAG data is (7265,)\n",
      "[INFO] 7265 windows with 62 samples each with 4 features per sample (including timestamp if present)\n",
      "Number of samples per window based on sampling rate - 61.86\n",
      "\n",
      "\n",
      "[INFO] shape of MIC data is (7265,)\n",
      "[INFO] 7265 windows with 3200 samples each with 2 features per sample (including timestamp if present)\n",
      "Number of samples per window based on sampling rate - 17600.00\n",
      "\n",
      "\n"
     ]
    }
   ],
   "source": [
    "sampling_rate_dict = {\n",
    "    \"acc\": 102.292,\n",
    "    \"gyr\": 102.292,\n",
    "    \"mag\": 154.646,\n",
    "    \"mic\": 44000\n",
    "}\n",
    "\n",
    "\n",
    "# Dictionary mapping sensor names to their data arrays\n",
    "data_dict_ = {\n",
    "    \"acc\": Xt_acc,\n",
    "    \"gyr\": Xt_gyr,\n",
    "    \"mag\": Xt_mag,\n",
    "    \"mic\": Xt_mic\n",
    "}\n",
    "\n",
    "for sensor, data in data_dict_.items():\n",
    "    print(f\"[INFO] shape of {sensor.upper()} data is {data.shape}\")\n",
    "    \n",
    "    if data.shape[0] > 0 and hasattr(data[0], 'shape') and len(data[0].shape) == 2:\n",
    "        n_windows = data.shape[0]\n",
    "        n_samples = data[0].shape[0]\n",
    "        n_features = data[0].shape[1]\n",
    "        print(f\"[INFO] {n_windows} windows with {n_samples} samples each with {n_features} features per sample (including timestamp if present)\")\n",
    "\n",
    "        no_samples_per_window = window_length * sampling_rate_dict[sensor]\n",
    "        print(f\"Number of samples per window based on sampling rate - {no_samples_per_window:.2f}\")\n",
    "    else:\n",
    "        print(f\"[WARNING] Cannot determine sample and feature dimensions for {sensor.upper()} — data format might differ.\")\n",
    "    \n",
    "    print(\"\\n\")\n",
    "\n"
   ]
  },
  {
   "cell_type": "code",
   "execution_count": 18,
   "metadata": {},
   "outputs": [
    {
     "name": "stdout",
     "output_type": "stream",
     "text": [
      "\n",
      "[INFO] Window 1\n",
      "Xt_acc[0].shape = (41, 4)\n",
      "y_acc[0].shape = (41,)\n",
      "  Sample 1: Timestamp = 1594226277.18598, Label = 8.0\n",
      "  Sample 2: Timestamp = 1594226277.1957562, Label = 8.0\n",
      "  Sample 3: Timestamp = 1594226277.2055323, Label = 8.0\n",
      "  Sample 4: Timestamp = 1594226277.215309, Label = 8.0\n",
      "  Sample 5: Timestamp = 1594226277.2250843, Label = 8.0\n",
      "  Sample 6: Timestamp = 1594226277.234861, Label = 8.0\n",
      "  Sample 7: Timestamp = 1594226277.2446368, Label = 8.0\n",
      "  Sample 8: Timestamp = 1594226277.2544131, Label = 8.0\n",
      "  Sample 9: Timestamp = 1594226277.264189, Label = 8.0\n",
      "  Sample 10: Timestamp = 1594226277.2739651, Label = 8.0\n",
      "  Sample 11: Timestamp = 1594226277.2837412, Label = 8.0\n",
      "  Sample 12: Timestamp = 1594226277.2935176, Label = 8.0\n",
      "  Sample 13: Timestamp = 1594226277.3032937, Label = 8.0\n",
      "  Sample 14: Timestamp = 1594226277.3130696, Label = 8.0\n",
      "  Sample 15: Timestamp = 1594226277.3228457, Label = 8.0\n",
      "  Sample 16: Timestamp = 1594226277.3326216, Label = 8.0\n",
      "  Sample 17: Timestamp = 1594226277.342398, Label = 8.0\n",
      "  Sample 18: Timestamp = 1594226277.352174, Label = 8.0\n",
      "  Sample 19: Timestamp = 1594226277.3619502, Label = 8.0\n",
      "  Sample 20: Timestamp = 1594226277.3717265, Label = 8.0\n",
      "  Sample 21: Timestamp = 1594226277.3815026, Label = 8.0\n",
      "  Sample 22: Timestamp = 1594226277.3912785, Label = 8.0\n",
      "  Sample 23: Timestamp = 1594226277.4010544, Label = 8.0\n",
      "  Sample 24: Timestamp = 1594226277.4108307, Label = 8.0\n",
      "  Sample 25: Timestamp = 1594226277.4206069, Label = 8.0\n",
      "  Sample 26: Timestamp = 1594226277.430383, Label = 8.0\n",
      "  Sample 27: Timestamp = 1594226277.440159, Label = 8.0\n",
      "  Sample 28: Timestamp = 1594226277.4499352, Label = 8.0\n",
      "  Sample 29: Timestamp = 1594226277.4597113, Label = 8.0\n",
      "  Sample 30: Timestamp = 1594226277.4694874, Label = 8.0\n",
      "  Sample 31: Timestamp = 1594226277.4792635, Label = 8.0\n",
      "  Sample 32: Timestamp = 1594226277.4890394, Label = 8.0\n",
      "  Sample 33: Timestamp = 1594226277.4988158, Label = 8.0\n",
      "  Sample 34: Timestamp = 1594226277.508592, Label = 8.0\n",
      "  Sample 35: Timestamp = 1594226277.518368, Label = 8.0\n",
      "  Sample 36: Timestamp = 1594226277.528144, Label = 8.0\n",
      "  Sample 37: Timestamp = 1594226277.5379202, Label = 8.0\n",
      "  Sample 38: Timestamp = 1594226277.5476966, Label = 8.0\n",
      "  Sample 39: Timestamp = 1594226277.5574725, Label = 8.0\n",
      "  Sample 40: Timestamp = 1594226277.5672483, Label = 8.0\n",
      "  Sample 41: Timestamp = 1594226277.5770247, Label = 8.0\n",
      "\n",
      "[INFO] Window 2\n",
      "Xt_acc[1].shape = (41, 4)\n",
      "y_acc[1].shape = (41,)\n",
      "  Sample 1: Timestamp = 1594227852.3893664, Label = 8.0\n",
      "  Sample 2: Timestamp = 1594227852.3991427, Label = 8.0\n",
      "  Sample 3: Timestamp = 1594227852.4089189, Label = 8.0\n",
      "  Sample 4: Timestamp = 1594227852.418695, Label = 8.0\n",
      "  Sample 5: Timestamp = 1594227852.428471, Label = 8.0\n",
      "  Sample 6: Timestamp = 1594227852.4382472, Label = 8.0\n",
      "  Sample 7: Timestamp = 1594227852.448023, Label = 8.0\n",
      "  Sample 8: Timestamp = 1594227852.4577994, Label = 8.0\n",
      "  Sample 9: Timestamp = 1594227852.4675756, Label = 8.0\n",
      "  Sample 10: Timestamp = 1594227852.4773517, Label = 8.0\n",
      "  Sample 11: Timestamp = 1594227852.4871278, Label = 8.0\n",
      "  Sample 12: Timestamp = 1594227852.496904, Label = 8.0\n",
      "  Sample 13: Timestamp = 1594227852.50668, Label = 8.0\n",
      "  Sample 14: Timestamp = 1594227852.516456, Label = 8.0\n",
      "  Sample 15: Timestamp = 1594227852.5262322, Label = 8.0\n",
      "  Sample 16: Timestamp = 1594227852.5360086, Label = 8.0\n",
      "  Sample 17: Timestamp = 1594227852.5457845, Label = 8.0\n",
      "  Sample 18: Timestamp = 1594227852.5555606, Label = 8.0\n",
      "  Sample 19: Timestamp = 1594227852.5653367, Label = 8.0\n",
      "  Sample 20: Timestamp = 1594227852.5751126, Label = 8.0\n",
      "  Sample 21: Timestamp = 1594227852.5848892, Label = 8.0\n",
      "  Sample 22: Timestamp = 1594227852.594665, Label = 8.0\n",
      "  Sample 23: Timestamp = 1594227852.6044412, Label = 8.0\n",
      "  Sample 24: Timestamp = 1594227852.6142173, Label = 8.0\n",
      "  Sample 25: Timestamp = 1594227852.6239936, Label = 8.0\n",
      "  Sample 26: Timestamp = 1594227852.6337695, Label = 8.0\n",
      "  Sample 27: Timestamp = 1594227852.6435454, Label = 8.0\n",
      "  Sample 28: Timestamp = 1594227852.6533215, Label = 8.0\n",
      "  Sample 29: Timestamp = 1594227852.663098, Label = 8.0\n",
      "  Sample 30: Timestamp = 1594227852.672874, Label = 8.0\n",
      "  Sample 31: Timestamp = 1594227852.68265, Label = 8.0\n",
      "  Sample 32: Timestamp = 1594227852.6924262, Label = 8.0\n",
      "  Sample 33: Timestamp = 1594227852.7022026, Label = 8.0\n",
      "  Sample 34: Timestamp = 1594227852.7119784, Label = 8.0\n",
      "  Sample 35: Timestamp = 1594227852.7217546, Label = 8.0\n",
      "  Sample 36: Timestamp = 1594227852.731531, Label = 8.0\n",
      "  Sample 37: Timestamp = 1594227852.7413068, Label = 8.0\n",
      "  Sample 38: Timestamp = 1594227852.751083, Label = 8.0\n",
      "  Sample 39: Timestamp = 1594227852.760859, Label = 8.0\n",
      "  Sample 40: Timestamp = 1594227852.7706351, Label = 8.0\n",
      "  Sample 41: Timestamp = 1594227852.7804112, Label = 8.0\n",
      "\n",
      "[INFO] Window 3\n",
      "Xt_acc[2].shape = (41, 4)\n",
      "y_acc[2].shape = (41,)\n",
      "  Sample 1: Timestamp = 1594226277.3815026, Label = 8.0\n",
      "  Sample 2: Timestamp = 1594226277.3912785, Label = 8.0\n",
      "  Sample 3: Timestamp = 1594226277.4010544, Label = 8.0\n",
      "  Sample 4: Timestamp = 1594226277.4108307, Label = 8.0\n",
      "  Sample 5: Timestamp = 1594226277.4206069, Label = 8.0\n",
      "  Sample 6: Timestamp = 1594226277.430383, Label = 8.0\n",
      "  Sample 7: Timestamp = 1594226277.440159, Label = 8.0\n",
      "  Sample 8: Timestamp = 1594226277.4499352, Label = 8.0\n",
      "  Sample 9: Timestamp = 1594226277.4597113, Label = 8.0\n",
      "  Sample 10: Timestamp = 1594226277.4694874, Label = 8.0\n",
      "  Sample 11: Timestamp = 1594226277.4792635, Label = 8.0\n",
      "  Sample 12: Timestamp = 1594226277.4890394, Label = 8.0\n",
      "  Sample 13: Timestamp = 1594226277.4988158, Label = 8.0\n",
      "  Sample 14: Timestamp = 1594226277.508592, Label = 8.0\n",
      "  Sample 15: Timestamp = 1594226277.518368, Label = 8.0\n",
      "  Sample 16: Timestamp = 1594226277.528144, Label = 8.0\n",
      "  Sample 17: Timestamp = 1594226277.5379202, Label = 8.0\n",
      "  Sample 18: Timestamp = 1594226277.5476966, Label = 8.0\n",
      "  Sample 19: Timestamp = 1594226277.5574725, Label = 8.0\n",
      "  Sample 20: Timestamp = 1594226277.5672483, Label = 8.0\n",
      "  Sample 21: Timestamp = 1594226277.5770247, Label = 8.0\n",
      "  Sample 22: Timestamp = 1594226277.5868008, Label = 8.0\n",
      "  Sample 23: Timestamp = 1594226277.596577, Label = 8.0\n",
      "  Sample 24: Timestamp = 1594226277.606353, Label = 8.0\n",
      "  Sample 25: Timestamp = 1594226277.6161294, Label = 8.0\n",
      "  Sample 26: Timestamp = 1594226277.6259053, Label = 8.0\n",
      "  Sample 27: Timestamp = 1594226277.6356814, Label = 8.0\n",
      "  Sample 28: Timestamp = 1594226277.6454575, Label = 8.0\n",
      "  Sample 29: Timestamp = 1594226277.6552336, Label = 8.0\n",
      "  Sample 30: Timestamp = 1594226277.6650095, Label = 8.0\n",
      "  Sample 31: Timestamp = 1594226277.674786, Label = 8.0\n",
      "  Sample 32: Timestamp = 1594226277.684562, Label = 8.0\n",
      "  Sample 33: Timestamp = 1594226277.694338, Label = 8.0\n",
      "  Sample 34: Timestamp = 1594226277.7041142, Label = 8.0\n",
      "  Sample 35: Timestamp = 1594226277.7138903, Label = 8.0\n",
      "  Sample 36: Timestamp = 1594226277.7236664, Label = 8.0\n",
      "  Sample 37: Timestamp = 1594226277.7334423, Label = 8.0\n",
      "  Sample 38: Timestamp = 1594226277.743219, Label = 8.0\n",
      "  Sample 39: Timestamp = 1594226277.7529948, Label = 8.0\n",
      "  Sample 40: Timestamp = 1594226277.7627711, Label = 8.0\n",
      "  Sample 41: Timestamp = 1594226277.772547, Label = 8.0\n"
     ]
    }
   ],
   "source": [
    "# Display per-sample labels for first 3 windows\n",
    "for i in range(3):\n",
    "    print(f\"\\n[INFO] Window {i+1}\")\n",
    "    print(f\"Xt_acc[{i}].shape = {Xt_acc[i].shape}\")  # Should be (41, 4)\n",
    "    print(f\"y_acc[{i}].shape = {y_acc[i].shape}\")    # Should be (41,)\n",
    "\n",
    "    for j in range(Xt_acc[i].shape[0]):\n",
    "        timestamp = Xt_acc[i][j][0]  # assuming first column is timestamp\n",
    "        label = y_acc[i][j]\n",
    "        print(f\"  Sample {j+1}: Timestamp = {timestamp}, Label = {label}\")\n"
   ]
  },
  {
   "cell_type": "code",
   "execution_count": 19,
   "metadata": {},
   "outputs": [
    {
     "name": "stdout",
     "output_type": "stream",
     "text": [
      "\n",
      "[INFO] Window 1\n",
      "Xt_acc[0].shape = (41, 4)\n",
      "  Start Timestamp = 1594226277.18598 → 2020-07-08 16:37:57.185\n",
      "  End Timestamp   = 1594226277.5770247 → 2020-07-08 16:37:57.577\n",
      "  Duration        = 0.3910 seconds\n",
      "\n",
      "[INFO] Window 2\n",
      "Xt_acc[1].shape = (41, 4)\n",
      "  Start Timestamp = 1594227852.3893664 → 2020-07-08 17:04:12.389\n",
      "  End Timestamp   = 1594227852.7804112 → 2020-07-08 17:04:12.780\n",
      "  Duration        = 0.3910 seconds\n",
      "\n",
      "[INFO] Window 3\n",
      "Xt_acc[2].shape = (41, 4)\n",
      "  Start Timestamp = 1594226277.3815026 → 2020-07-08 16:37:57.381\n",
      "  End Timestamp   = 1594226277.772547 → 2020-07-08 16:37:57.772\n",
      "  Duration        = 0.3910 seconds\n"
     ]
    }
   ],
   "source": [
    "from datetime import datetime, timezone\n",
    "\n",
    "# Convert timestamp to readable UTC datetime\n",
    "def format_timestamp(ts):\n",
    "    return datetime.fromtimestamp(ts, tz=timezone.utc).strftime('%Y-%m-%d %H:%M:%S.%f')[:-3]\n",
    "\n",
    "# Display start and end times for the first 3 windows\n",
    "for i in range(3):\n",
    "    print(f\"\\n[INFO] Window {i+1}\")\n",
    "    print(f\"Xt_acc[{i}].shape = {Xt_acc[i].shape}\")  # Should be (41, 4)\n",
    "    \n",
    "    start_ts = Xt_acc[i][0][0]\n",
    "    end_ts = Xt_acc[i][-1][0]\n",
    "\n",
    "    print(f\"  Start Timestamp = {start_ts} → {format_timestamp(start_ts)}\")\n",
    "    print(f\"  End Timestamp   = {end_ts} → {format_timestamp(end_ts)}\")\n",
    "    print(f\"  Duration        = {end_ts - start_ts:.4f} seconds\")\n"
   ]
  },
  {
   "cell_type": "code",
   "execution_count": 20,
   "metadata": {},
   "outputs": [
    {
     "name": "stdout",
     "output_type": "stream",
     "text": [
      "UTC Time: 2020-07-08 16:37:57.185980+00:00\n"
     ]
    }
   ],
   "source": [
    "# helper code\n",
    "\n",
    "from datetime import datetime, timezone\n",
    "\n",
    "# Your Unix timestamp\n",
    "timestamp = 1594226277.18598\n",
    "\n",
    "# Convert to UTC time using timezone-aware datetime\n",
    "dt = datetime.fromtimestamp(timestamp, tz=timezone.utc)\n",
    "\n",
    "# Print result\n",
    "print(\"UTC Time:\", dt)\n",
    "\n"
   ]
  },
  {
   "cell_type": "code",
   "execution_count": 21,
   "metadata": {},
   "outputs": [
    {
     "name": "stdout",
     "output_type": "stream",
     "text": [
      "Time Difference in seconds: 0.009776 seconds\n"
     ]
    }
   ],
   "source": [
    "from datetime import datetime, timezone\n",
    "\n",
    "# Timestamps\n",
    "timestamp2 = 1594226277.2055323\n",
    "timestamp1 = 1594226277.1957562\n",
    "\n",
    "# Convert both to datetime objects\n",
    "dt1 = datetime.fromtimestamp(timestamp1, tz=timezone.utc)\n",
    "dt2 = datetime.fromtimestamp(timestamp2, tz=timezone.utc)\n",
    "\n",
    "# Find the difference (timedelta)\n",
    "time_difference = dt2 - dt1\n",
    "\n",
    "# Print the result\n",
    "print(f\"Time Difference in seconds: {time_difference.total_seconds()} seconds\")\n",
    "\n"
   ]
  },
  {
   "cell_type": "code",
   "execution_count": 22,
   "metadata": {},
   "outputs": [
    {
     "name": "stdout",
     "output_type": "stream",
     "text": [
      "[INFO] shape of ACC data is (7265,)\n",
      "[INFO] shape of GYR data is (7265,)\n",
      "[INFO] 7265 windows with 4 sample each (time stamps and 3 axis accelerometer)\n",
      "\n",
      "\n",
      "I think this is the correct desxription\n",
      "[INFO] 7265 windows with 41 samples each with 4 features per sample (time stamps and 3 axis accelerometer)\n",
      "Number of samples per window - 40.9164\n"
     ]
    }
   ],
   "source": [
    "print(\"[INFO] shape of ACC data is\", Xt_acc.shape)\n",
    "print(\"[INFO] shape of GYR data is\", Xt_gyr.shape)\n",
    "print(f\"[INFO] {Xt_acc.shape[0]} windows with {Xt_acc[0].shape[1]} sample each (time stamps and 3 axis accelerometer)\")\n",
    "print(\"\\n\")\n",
    "print(\"I think this is the correct desxription\")\n",
    "print(f\"[INFO] {Xt_acc.shape[0]} windows with {Xt_acc[0].shape[0]} samples each with {Xt_acc[0].shape[1]} features per sample (time stamps and 3 axis accelerometer)\")\n",
    "no_samples_per_window = window_length * 102.291 # for accelerometer\n",
    "print(f\"Number of samples per window - {no_samples_per_window}\")"
   ]
  },
  {
   "cell_type": "markdown",
   "metadata": {},
   "source": [
    "You can discard the time column with e.g.:\n",
    "```python\n",
    "Xt_acc = Xt_acc[:,:,1:]\n",
    "```"
   ]
  },
  {
   "cell_type": "markdown",
   "metadata": {},
   "source": [
    "### 2.2 Plot the Toy Data\n",
    "> Note: In this example we deal with randomly generated toy data!"
   ]
  },
  {
   "cell_type": "code",
   "execution_count": 23,
   "metadata": {},
   "outputs": [
    {
     "data": {
      "image/png": "[encoded data removed]",
      "text/plain": [
       "<Figure size 2400x400 with 1 Axes>"
      ]
     },
     "metadata": {},
     "output_type": "display_data"
    },
    {
     "data": {
      "image/png": "[encoded data removed]",
      "text/plain": [
       "<Figure size 2400x400 with 1 Axes>"
      ]
     },
     "metadata": {},
     "output_type": "display_data"
    }
   ],
   "source": [
    "import matplotlib.pyplot as plt\n",
    "\n",
    "# plot a sample\n",
    "plt.figure(figsize=(24,4))\n",
    "plt.title(f\"Single window: {y_mag[0]}\") # 70 is the window\n",
    "t = Xt_mag[0][:, 0] # timestamp\n",
    "x_win = Xt_mag[0][:, 1:] # x,y,z axis values\n",
    "plt.plot(t, x_win)\n",
    "plt.xlabel('Time [a.u.]')\n",
    "plt.ylabel('sensor values acc')\n",
    "plt.show()\n",
    "\n",
    "# plot a measurement\n",
    "plotme = data_dict[\"01\"].acc.ts\n",
    "t = plotme[:, 0]\n",
    "x_mea = plotme[:, 1:]\n",
    "plt.figure(figsize=(24,4))\n",
    "plt.title(\"Measurement #01\")\n",
    "plt.plot(t, x_mea)\n",
    "plt.xlabel('Time [a.u.]')\n",
    "plt.ylabel('sensor values acc')\n",
    "plt.show()"
   ]
  },
  {
   "cell_type": "markdown",
   "metadata": {},
   "source": [
    "## 3. Preprocess the Data"
   ]
  },
  {
   "cell_type": "code",
   "execution_count": 24,
   "metadata": {},
   "outputs": [],
   "source": [
    "from fhgutils import filter_labels, one_label_per_window, summarize_labels"
   ]
  },
  {
   "cell_type": "markdown",
   "metadata": {},
   "source": [
    "### 3.1 `filter_labels`\n",
    "- filter out labels [-1]\n",
    "- also filter out whole windows, in case there is no majority label \n",
    "- e.g. window length of 5, labels could be [1,1,1,1,0] -> okay. but if [1,1,0,0,2] -> discard window."
   ]
  },
  {
   "cell_type": "code",
   "execution_count": 25,
   "metadata": {},
   "outputs": [
    {
     "name": "stdout",
     "output_type": "stream",
     "text": [
      "Labels: [ 2.  3.  4.  5.  6.  7.  8. 14.]\n",
      "[INFO] label 2.0 with 33998 samples\n",
      "[INFO] label 3.0 with 14588 samples\n",
      "[INFO] label 4.0 with 12588 samples\n",
      "[INFO] label 5.0 with 5614 samples\n",
      "[INFO] label 6.0 with 3097 samples\n",
      "[INFO] label 7.0 with 3672 samples\n",
      "[INFO] label 8.0 with 223675 samples\n",
      "[INFO] label 14.0 with 633 samples\n",
      "Total Samples: 297865\n"
     ]
    }
   ],
   "source": [
    "values, counts = np.unique(y_acc, return_counts=True)\n",
    "print(f\"Labels: {values}\")\n",
    "total_samples = 0\n",
    "for val, count in zip(values, counts):\n",
    "    print(f\"[INFO] label {val} with {count} samples\")\n",
    "    total_samples += count\n",
    "print(f\"Total Samples: {total_samples}\")"
   ]
  },
  {
   "cell_type": "code",
   "execution_count": 26,
   "metadata": {},
   "outputs": [
    {
     "name": "stdout",
     "output_type": "stream",
     "text": [
      "Acc\n",
      "1271\n",
      "3805\n",
      "4065\n",
      "4109\n",
      "4149\n",
      "6106\n",
      "[INFO] original Xt: 7265 (41, 4)\n",
      "[INFO] filtered Xt: 7259 (41, 4)\n",
      "\n",
      "\n",
      "GRR\n",
      "1271\n",
      "3805\n",
      "4065\n",
      "4109\n",
      "4149\n",
      "6106\n",
      "[INFO] original Xt: 7265 (41, 4)\n",
      "[INFO] filtered Xt: 7259 (41, 4)\n",
      "\n",
      "\n",
      "MAG\n",
      "305\n",
      "525\n",
      "533\n",
      "847\n",
      "905\n",
      "941\n",
      "1011\n",
      "1091\n",
      "1157\n",
      "1271\n",
      "1465\n",
      "1482\n",
      "1517\n",
      "1835\n",
      "1902\n",
      "2155\n",
      "2535\n",
      "2664\n",
      "3293\n",
      "3377\n",
      "3397\n",
      "3805\n",
      "3813\n",
      "4021\n",
      "4065\n",
      "4105\n",
      "4109\n",
      "4117\n",
      "4149\n",
      "4337\n",
      "4363\n",
      "4493\n",
      "4789\n",
      "5023\n",
      "5077\n",
      "5215\n",
      "5225\n",
      "5249\n",
      "5339\n",
      "5363\n",
      "5615\n",
      "5687\n",
      "5758\n",
      "5805\n",
      "5913\n",
      "6106\n",
      "[INFO] original Xt: 7265 (62, 4)\n",
      "[INFO] filtered Xt: 7219 (62, 4)\n",
      "\n",
      "\n",
      "MIC\n",
      "105\n",
      "269\n",
      "305\n",
      "361\n",
      "394\n",
      "525\n",
      "533\n",
      "563\n",
      "729\n",
      "847\n",
      "905\n",
      "941\n",
      "948\n",
      "1011\n",
      "1036\n",
      "1091\n",
      "1118\n",
      "1154\n",
      "1157\n",
      "1271\n",
      "1404\n",
      "1421\n",
      "1428\n",
      "1482\n",
      "1505\n",
      "1517\n",
      "1558\n",
      "1604\n",
      "1676\n",
      "1764\n",
      "1835\n",
      "1902\n",
      "1907\n",
      "1967\n",
      "1983\n",
      "2043\n",
      "2107\n",
      "2133\n",
      "2155\n",
      "2323\n",
      "2437\n",
      "2489\n",
      "2527\n",
      "2535\n",
      "2539\n",
      "2601\n",
      "2605\n",
      "2875\n",
      "3805\n",
      "4065\n",
      "4109\n",
      "4149\n",
      "4192\n",
      "4363\n",
      "4484\n",
      "4616\n",
      "4838\n",
      "4928\n",
      "5038\n",
      "5238\n",
      "5296\n",
      "5456\n",
      "5710\n",
      "5756\n",
      "5758\n",
      "6012\n",
      "6022\n",
      "6106\n",
      "6200\n",
      "6504\n",
      "6520\n",
      "6547\n",
      "6616\n",
      "6697\n",
      "6837\n",
      "6842\n",
      "6846\n",
      "6931\n",
      "6942\n",
      "6986\n",
      "[INFO] original Xt: 7265 (3200, 2)\n",
      "[INFO] filtered Xt: 7185 (3200, 2)\n"
     ]
    }
   ],
   "source": [
    "Xt_acc_f, Xc_acc_f, y_acc_f = filter_labels(labels=[-1], Xt=Xt_acc, Xc=Xc_acc, y=y_acc,name=\"Acc\")\n",
    "print(\"\\n\")\n",
    "Xt_gyr_f, Xc_gyr_f, y_gyr_f = filter_labels(labels=[-1], Xt=Xt_gyr, Xc=Xc_gyr, y=y_gyr,name=\"GRR\")\n",
    "print(\"\\n\")\n",
    "Xt_mag_f, Xc_mag_f, y_mag_f = filter_labels(labels=[-1], Xt=Xt_mag, Xc=Xc_mag, y=y_mag,name=\"MAG\")\n",
    "print(\"\\n\")\n",
    "Xt_mic_f, Xc_mic_f, y_mic_f = filter_labels(labels=[-1], Xt=Xt_mic, Xc=Xc_mic, y=y_mic,name=\"MIC\")\n"
   ]
  },
  {
   "cell_type": "markdown",
   "metadata": {},
   "source": [
    "### 3.2 `one_label_per_window`\n",
    "- flatten labels of windows to the majority label\n",
    "- `[1,1,1,1,2]` -> 1. bad if you've got `[0,0,0,0,0,1,1,1,1,1,1]` -> 1, this creates anomalous samples of class 1"
   ]
  },
  {
   "cell_type": "code",
   "execution_count": 27,
   "metadata": {},
   "outputs": [
    {
     "name": "stdout",
     "output_type": "stream",
     "text": [
      "[[ 1.59422785e+09 -4.76286029e-01 -3.11918665e-01  9.70580078e+00]\n",
      " [ 1.59422785e+09 -3.44056559e-01 -2.09478103e-01  9.69982900e+00]\n",
      " [ 1.59422785e+09 -4.06092916e-01 -2.85171931e-01  9.47102835e+00]\n",
      " [ 1.59422785e+09 -1.84237740e-01 -4.45455807e-01  9.47702051e+00]\n",
      " [ 1.59422785e+09 -2.87838435e-01 -8.59770509e-01  9.72111005e+00]\n",
      " [ 1.59422785e+09 -2.98294310e-01 -1.14706250e+00  9.69943241e+00]\n",
      " [ 1.59422785e+09 -3.60678278e-01 -1.10351994e+00  9.82162155e+00]\n",
      " [ 1.59422785e+09 -2.47223860e-01 -9.96489505e-01  9.88782025e+00]\n",
      " [ 1.59422785e+09 -1.26396403e-01 -8.75706955e-01  9.97513526e+00]\n",
      " [ 1.59422785e+09 -1.26526634e-01 -7.47798805e-01  9.96346545e+00]\n",
      " [ 1.59422785e+09 -2.87770381e-01 -7.89382169e-01  9.87148047e+00]\n",
      " [ 1.59422785e+09 -1.85882768e-01 -9.33644296e-01  9.92514674e+00]\n",
      " [ 1.59422785e+09 -4.17316061e-02 -9.95361962e-01  9.90773308e+00]\n",
      " [ 1.59422785e+09 -1.58853194e-01 -1.00773683e+00  9.93924338e+00]\n",
      " [ 1.59422785e+09 -3.37820701e-01 -9.50401761e-01  9.94262366e+00]\n",
      " [ 1.59422785e+09 -2.43780306e-01 -8.38977618e-01  9.88487378e+00]\n",
      " [ 1.59422785e+09 -2.28710114e-01 -1.69582988e-01  9.83694866e+00]\n",
      " [ 1.59422785e+09 -5.75524671e-01  3.84488194e-01  9.57854419e+00]\n",
      " [ 1.59422785e+09 -4.67771984e-01  1.60880679e-02  8.73575732e+00]\n",
      " [ 1.59422785e+09 -9.71382052e-01 -1.35887680e+00  8.93393890e+00]\n",
      " [ 1.59422785e+09 -4.11989761e-01 -1.24983350e+00  8.97534055e+00]\n",
      " [ 1.59422785e+09 -4.54107136e-01 -1.69708485e-01  8.35576811e+00]\n",
      " [ 1.59422785e+09 -6.40857733e-01 -3.86770807e-01  8.73409118e+00]\n",
      " [ 1.59422785e+09 -2.03718835e-01 -7.78122468e-01  8.97132616e+00]\n",
      " [ 1.59422785e+09 -5.65544812e-01 -6.22238135e-01  9.00615533e+00]\n",
      " [ 1.59422785e+09 -5.84340750e-01 -3.23365641e-01  9.54808830e+00]\n",
      " [ 1.59422785e+09 -6.50567153e-01 -4.66241907e-02  9.64869691e+00]\n",
      " [ 1.59422785e+09 -3.82869097e-01  2.99846536e-01  1.01106138e+01]\n",
      " [ 1.59422785e+09 -5.09882340e-01  1.01663802e-01  1.01938527e+01]\n",
      " [ 1.59422785e+09 -1.41058047e+00 -1.34458598e+00  9.84732258e+00]\n",
      " [ 1.59422785e+09 -7.65392616e-01 -5.02021257e-01  9.89885709e+00]\n",
      " [ 1.59422785e+09  4.29343945e-02 -1.29447661e+00  9.63341092e+00]\n",
      " [ 1.59422785e+09 -3.87158746e-01  1.51004409e+00  9.52236192e+00]\n",
      " [ 1.59422785e+09 -1.76056109e+00 -2.86105524e+00  1.25415355e+01]\n",
      " [ 1.59422785e+09  8.29416326e-01 -1.16972313e+00  9.32138849e+00]\n",
      " [ 1.59422785e+09 -2.24255203e+00  1.88908667e-01  1.16641218e+01]\n",
      " [ 1.59422785e+09 -2.32304740e+00 -3.57807924e+00  1.27751789e+01]\n",
      " [ 1.59422785e+09  2.70680086e+00 -7.37424401e-01  7.28099590e+00]\n",
      " [ 1.59422785e+09 -1.99576751e+00  1.39582131e+00  9.37934488e+00]\n",
      " [ 1.59422785e+09 -1.97325143e+00 -3.74336199e+00  1.16769086e+01]\n",
      " [ 1.59422785e+09  1.83806226e+00  2.93707704e+00  9.31567570e+00]]\n",
      "[8. 8. 8. 8. 8. 8. 8. 8. 8. 8. 8. 8. 8. 8. 8. 8. 2. 2. 2. 2. 2. 2. 2. 2.\n",
      " 2. 2. 2. 2. 2. 2. 2. 2. 2. 2. 2. 2. 2. 2. 2. 2. 2.]\n",
      "pre [8. 8. 8. 8. 8. 8. 8. 8. 8. 8. 8. 8. 8. 8. 8. 8. 2. 2. 2. 2. 2. 2. 2. 2.\n",
      " 2. 2. 2. 2. 2. 2. 2. 2. 2. 2. 2. 2. 2. 2. 2. 2. 2.]\n",
      "Below find the number of unique labels in the data\n",
      "flattened 8 labels: [ 2  3  4  5  6  7  8 14]\n",
      "Below find the number of unique labels in the data\n",
      "flattened 8 labels: [ 2  3  4  5  6  7  8 14]\n",
      "Below find the number of unique labels in the data\n",
      "flattened 8 labels: [ 2  3  4  5  6  7  8 14]\n",
      "Below find the number of unique labels in the data\n",
      "flattened 8 labels: [ 2  3  4  5  6  7  8 14]\n",
      "post 2\n"
     ]
    }
   ],
   "source": [
    "print(Xt_acc_f[7])\n",
    "print(y_acc_f[7])\n",
    "print(\"pre\", y_acc_f[7])\n",
    "y_acc_f = one_label_per_window(y=y_acc_f)\n",
    "y_gyr_f = one_label_per_window(y=y_gyr_f)\n",
    "y_mag_f = one_label_per_window(y=y_mag_f)\n",
    "y_mic_f = one_label_per_window(y=y_mic_f)\n",
    "print(\"post\", y_acc_f[7])"
   ]
  },
  {
   "cell_type": "code",
   "execution_count": 28,
   "metadata": {},
   "outputs": [
    {
     "name": "stdout",
     "output_type": "stream",
     "text": [
      "[INFO] Saved window timestamp data to microphone_window_times.csv\n"
     ]
    }
   ],
   "source": [
    "import pandas as pd\n",
    "from datetime import datetime, timezone\n",
    "\n",
    "# Function to format timestamp as a readable string\n",
    "def format_timestamp(ts):\n",
    "    return datetime.fromtimestamp(ts, tz=timezone.utc).strftime('%Y-%m-%d %H:%M:%S.%f')[:-3]\n",
    "\n",
    "# Collect data for all windows\n",
    "window_data = []\n",
    "\n",
    "for i in range(len(Xt_mic_f)):\n",
    "    start_ts = Xt_mic_f[i][0][0]\n",
    "    end_ts = Xt_mic_f[i][-1][0]\n",
    "    duration = end_ts - start_ts\n",
    "\n",
    "    window_data.append({\n",
    "        \"Window\": i,\n",
    "        \"Start_Timestamp\": start_ts,\n",
    "        \"End_Timestamp\": end_ts,\n",
    "        \"Start_Time_UTC\": format_timestamp(start_ts),\n",
    "        \"End_Time_UTC\": format_timestamp(end_ts),\n",
    "        \"Duration_sec\": round(duration, 4),\n",
    "        \"label\": y_mic_f[i]\n",
    "    })\n",
    "\n",
    "# Create DataFrame and save to CSV\n",
    "df = pd.DataFrame(window_data)\n",
    "csv_path = \"microphone_window_times.csv\"\n",
    "df.to_csv(csv_path, index=False)\n",
    "\n",
    "print(f\"[INFO] Saved window timestamp data to {csv_path}\")\n"
   ]
  },
  {
   "cell_type": "markdown",
   "metadata": {},
   "source": [
    "### 3.3 `summarize_labels`\n",
    "- some labels are basically very similar, like \"pull_trigger, pull_trigger_air\" for the Pneumatic Rivet Gun\n",
    "- same action, but once holding the tool in the air, once using it on a workpiece."
   ]
  },
  {
   "cell_type": "code",
   "execution_count": 29,
   "metadata": {},
   "outputs": [
    {
     "name": "stdout",
     "output_type": "stream",
     "text": [
      "[INFO] Summarized labels from [ 2.  3.  4.  5.  6.  7.  8. 14.] to [ 3.  4.  5.  6.  7.  8. 14.]\n"
     ]
    }
   ],
   "source": [
    "# To group multiple labels into one, so you can simplify the label space.\n",
    "summarylabels = {5: [2, 1]} # Replace all occurrences of labels 0 and 1 with 5\n",
    "y_acc_f_sum = summarize_labels(y_acc, summarylabels)"
   ]
  },
  {
   "cell_type": "code",
   "execution_count": null,
   "metadata": {},
   "outputs": [],
   "source": []
  }
 ],
 "metadata": {
  "kernelspec": {
   "display_name": "tool-tracking_env",
   "language": "python",
   "name": "python3"
  },
  "language_info": {
   "codemirror_mode": {
    "name": "ipython",
    "version": 3
   },
   "file_extension": ".py",
   "mimetype": "text/x-python",
   "name": "python",
   "nbconvert_exporter": "python",
   "pygments_lexer": "ipython3",
   "version": "3.12.9"
  },
  "latex_envs": {
   "LaTeX_envs_menu_present": true,
   "autoclose": false,
   "autocomplete": true,
   "bibliofile": "biblio.bib",
   "cite_by": "apalike",
   "current_citInitial": 1,
   "eqLabelWithNumbers": true,
   "eqNumInitial": 1,
   "hotkeys": {
    "equation": "Ctrl-E",
    "itemize": "Ctrl-I"
   },
   "labels_anchors": false,
   "latex_user_defs": false,
   "report_style_numbering": false,
   "user_envs_cfg": false
  },
  "toc": {
   "base_numbering": 1,
   "nav_menu": {},
   "number_sections": true,
   "sideBar": true,
   "skip_h1_title": false,
   "title_cell": "Table of Contents",
   "title_sidebar": "Contents",
   "toc_cell": false,
   "toc_position": {},
   "toc_section_display": true,
   "toc_window_display": false
  }
 },
 "nbformat": 4,
 "nbformat_minor": 4
}
